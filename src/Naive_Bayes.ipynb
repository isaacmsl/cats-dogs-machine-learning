{
 "cells": [
  {
   "cell_type": "code",
   "execution_count": null,
   "metadata": {
    "colab": {
     "base_uri": "https://localhost:8080/"
    },
    "id": "eE1o0EfnxIAR",
    "outputId": "b959bb16-6922-4ba0-8204-9b8556ab5b6f"
   },
   "outputs": [
    {
     "name": "stdout",
     "output_type": "stream",
     "text": [
      "Accuracy: 0.425\n",
      "Confusion Matrix:\n",
      "[[31  7  9 13]\n",
      " [10 20 23  5]\n",
      " [18 12 31  3]\n",
      " [21  3 14 20]]\n"
     ]
    }
   ],
   "source": [
    "import pandas as pd\n",
    "\n",
    "## Carregando o dataset\n",
    "dataset = pd.read_csv('datasets/CNN_19_128_AVG.csv', encoding='utf-8')\n",
    "## dataset = pd.read_csv('CNN_VGG16_128_avg.csv', encoding='utf-8')\n",
    "\n",
    "\n",
    "## Selecionando todos os atributos com exceção da classe\n",
    "## X = dataset.iloc[:, :-1]  # Features\n",
    "X = dataset[dataset.columns[1:]]  # Features\n",
    "y = dataset.classe        # Target variable (classe)\n",
    "\n",
    "## Carregando o algoritmo\n",
    "from sklearn.naive_bayes import GaussianNB\n",
    "from sklearn.model_selection import train_test_split\n",
    "from sklearn import metrics\n",
    "from sklearn.metrics import confusion_matrix\n",
    "\n",
    "# Separando dataset em duas partes: treinamento e teste\n",
    "X_train, X_test, y_train, y_test = train_test_split(X, y, test_size=0.3, random_state=19)\n",
    "\n",
    "gnb = GaussianNB(priors = None, var_smoothing=1e-09)\n",
    "gnb.fit(X_train, y_train)\n",
    "y_pred = gnb.predict(X_test)\n",
    "\n",
    "# Avaliando o modelo\n",
    "print(\"Accuracy:\", metrics.accuracy_score(y_test, y_pred))\n",
    "print(\"Confusion Matrix:\")\n",
    "print(confusion_matrix(y_test, y_pred))"
   ]
  },
  {
   "cell_type": "code",
   "execution_count": 3,
   "metadata": {
    "colab": {
     "base_uri": "https://localhost:8080/"
    },
    "id": "X_XgZlEZMZb1",
    "outputId": "976b8869-8dfc-430c-b46f-fc74d0e8d67e"
   },
   "outputs": [
    {
     "name": "stdout",
     "output_type": "stream",
     "text": [
      "Accuracy: 0.45\n",
      "Confusion Matrix:\n",
      "[[22 13  5 20]\n",
      " [ 5 28 15 10]\n",
      " [ 5 24 26  9]\n",
      " [ 8  9  9 32]]\n"
     ]
    }
   ],
   "source": [
    "## Carregando o algoritmo\n",
    "from sklearn.naive_bayes import MultinomialNB\n",
    "\n",
    "mnb = MultinomialNB(fit_prior=True, alpha=1.0)\n",
    "mnb.fit(X_train, y_train)\n",
    "y_pred = mnb.predict(X_test)\n",
    "\n",
    "# Avaliando o modelo\n",
    "print(\"Accuracy:\", metrics.accuracy_score(y_test, y_pred))\n",
    "print(\"Confusion Matrix:\")\n",
    "print(confusion_matrix(y_test, y_pred))"
   ]
  },
  {
   "cell_type": "code",
   "execution_count": 4,
   "metadata": {
    "colab": {
     "base_uri": "https://localhost:8080/"
    },
    "id": "vIl1NhoOTsdc",
    "outputId": "3e3eb81f-d1b2-417d-dedc-56c227e4d61f"
   },
   "outputs": [
    {
     "name": "stdout",
     "output_type": "stream",
     "text": [
      "Accuracy: 0.45\n",
      "Confusion Matrix:\n",
      "[[20 13  3 24]\n",
      " [ 5 28 14 11]\n",
      " [ 5 25 25  9]\n",
      " [ 6  8  9 35]]\n"
     ]
    }
   ],
   "source": [
    "from sklearn.naive_bayes import ComplementNB\n",
    "\n",
    "cnb = ComplementNB(alpha=1.0, force_alpha=True, fit_prior=True)\n",
    "cnb.fit(X_train, y_train)\n",
    "y_pred = cnb.predict(X_test)\n",
    "\n",
    "# Avaliando o modelo\n",
    "print(\"Accuracy:\", metrics.accuracy_score(y_test, y_pred))\n",
    "print(\"Confusion Matrix:\")\n",
    "print(confusion_matrix(y_test, y_pred))\n"
   ]
  }
 ],
 "metadata": {
  "colab": {
   "provenance": []
  },
  "kernelspec": {
   "display_name": "Python 3",
   "name": "python3"
  },
  "language_info": {
   "codemirror_mode": {
    "name": "ipython",
    "version": 3
   },
   "file_extension": ".py",
   "mimetype": "text/x-python",
   "name": "python",
   "nbconvert_exporter": "python",
   "pygments_lexer": "ipython3",
   "version": "3.10.12"
  }
 },
 "nbformat": 4,
 "nbformat_minor": 0
}
