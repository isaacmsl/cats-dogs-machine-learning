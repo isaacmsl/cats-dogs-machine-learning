{
 "cells": [
  {
   "cell_type": "code",
   "execution_count": 1,
   "metadata": {},
   "outputs": [
    {
     "name": "stdout",
     "output_type": "stream",
     "text": [
      "Summary CSV file 'results_NB.csv' has been created.\n"
     ]
    }
   ],
   "source": [
    "import os\n",
    "import csv\n",
    "\n",
    "# Directory containing the CSV files\n",
    "results_dir = 'results/'\n",
    "\n",
    "# Output CSV file\n",
    "output_file = 'results_NB.csv'\n",
    "\n",
    "# List to store the rows for the new CSV file\n",
    "header = ['Bases', 'Treino/Teste', 'GaussianNB', 'MultinomialNB', 'ComplementNB']\n",
    "rows = [header]\n",
    "\n",
    "# Get the list of files and sort them by name\n",
    "files = sorted(os.listdir(results_dir))\n",
    "\n",
    "# Iterate over the sorted files in the results directory\n",
    "for filename in files:\n",
    "    if filename.endswith('.csv'):\n",
    "        parts = filename.split('_')\n",
    "        base = '_'.join(parts[2:]).replace('.csv', '')  # Adjusted to start from the third part\n",
    "        if 'NB' in filename and 'holdout' in filename:\n",
    "            treino_teste = '70/30'\n",
    "        elif 'NB' in filename and 'fold' in filename:\n",
    "            treino_teste = '10-fold CV'\n",
    "        else:\n",
    "            continue\n",
    "        with open(os.path.join(results_dir, filename), 'r') as csvfile:\n",
    "            reader = csv.reader(csvfile)\n",
    "            next(reader)  # Skip the header\n",
    "            k_values = next(reader)  # Read the k values\n",
    "        rows.append([base, treino_teste] + [value for value in k_values])\n",
    "\n",
    "#Sort rows by \"base\" column\n",
    "rows = sorted(rows, key=lambda x: x[0])\n",
    "\n",
    "# Write the rows to the new CSV file\n",
    "with open(output_file, 'w', newline='') as csvfile:\n",
    "    writer = csv.writer(csvfile)\n",
    "    writer.writerows(rows)\n",
    "\n",
    "print(f\"Summary CSV file '{output_file}' has been created.\")"
   ]
  }
 ],
 "metadata": {
  "kernelspec": {
   "display_name": "Python 3",
   "language": "python",
   "name": "python3"
  },
  "language_info": {
   "codemirror_mode": {
    "name": "ipython",
    "version": 3
   },
   "file_extension": ".py",
   "mimetype": "text/x-python",
   "name": "python",
   "nbconvert_exporter": "python",
   "pygments_lexer": "ipython3",
   "version": "3.10.12"
  }
 },
 "nbformat": 4,
 "nbformat_minor": 2
}
