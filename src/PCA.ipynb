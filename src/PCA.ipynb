{
 "cells": [
  {
   "cell_type": "code",
   "execution_count": 1,
   "metadata": {},
   "outputs": [],
   "source": [
    "import pandas as pd\n",
    "from sklearn.decomposition import PCA\n",
    "\n",
    "def pca_transform(df_numericals, n_components):\n",
    "    pca = PCA(n_components, whiten=True)\n",
    "    df_pca = pca.fit_transform(df_numericals)\n",
    "    df_red = pd.DataFrame(df_pca)\n",
    "    return df_red"
   ]
  },
  {
   "cell_type": "code",
   "execution_count": 2,
   "metadata": {},
   "outputs": [],
   "source": [
    "import os\n",
    "import pandas as pd\n",
    "\n",
    "dir = \"datasets/bests/\"\n",
    "datasets = os.listdir(dir)\n",
    "datasets = [d for d in datasets if d.endswith(\".csv\")]\n",
    "\n",
    "for dataset in datasets:\n",
    "    df = pd.read_csv(dir + dataset, encoding=\"utf-8\")\n",
    "    df_numericals = df.drop([\"classe\"], axis=1)\n",
    "    df_red_with_no_class = pca_transform(df_numericals, n_components=10)\n",
    "    df_red = df['classe'].to_frame().join(df_red_with_no_class)\n",
    "    df_red.to_csv(dir + \"PCA_10_\" + dataset, index=False)"
   ]
  }
 ],
 "metadata": {
  "kernelspec": {
   "display_name": "Python 3",
   "language": "python",
   "name": "python3"
  },
  "language_info": {
   "codemirror_mode": {
    "name": "ipython",
    "version": 3
   },
   "file_extension": ".py",
   "mimetype": "text/x-python",
   "name": "python",
   "nbconvert_exporter": "python",
   "pygments_lexer": "ipython3",
   "version": "3.10.12"
  }
 },
 "nbformat": 4,
 "nbformat_minor": 2
}
