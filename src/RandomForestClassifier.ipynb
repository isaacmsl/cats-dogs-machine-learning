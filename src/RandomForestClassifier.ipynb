{
  "cells": [
    {
      "cell_type": "code",
      "execution_count": 2,
      "metadata": {
        "id": "fWUXXbbjWBY0"
      },
      "outputs": [],
      "source": [
        "import pandas as pd\n",
        "from sklearn.preprocessing import MinMaxScaler\n",
        "\n",
        "dataset = pd.read_csv('datasets/bests/PCA_10_CNN_19_256_MAX.csv', encoding='utf-8')\n",
        "\n",
        "X = MinMaxScaler().fit_transform(dataset[dataset.columns[1:]])\n",
        "y = dataset.classe"
      ]
    },
    {
      "cell_type": "code",
      "execution_count": 3,
      "metadata": {
        "id": "QVsvFfieWCjw"
      },
      "outputs": [],
      "source": [
        "## Carregando o Random Forest\n",
        "from sklearn.ensemble import RandomForestClassifier\n",
        "from sklearn import metrics\n",
        "from sklearn.metrics import confusion_matrix\n",
        "\n",
        "# Separando dataset em duas partes: treinamento e teste\n",
        "from sklearn.model_selection import train_test_split\n",
        "\n",
        "X_train, X_test, y_train, y_test = train_test_split(\n",
        "    X, y, test_size=0.3, random_state=42\n",
        ")"
      ]
    },
    {
      "cell_type": "code",
      "execution_count": 4,
      "metadata": {
        "colab": {
          "base_uri": "https://localhost:8080/"
        },
        "id": "BODnV2hdWi3N",
        "outputId": "311b1efa-94a8-4f6d-92ec-79ccee812efa"
      },
      "outputs": [
        {
          "name": "stdout",
          "output_type": "stream",
          "text": [
            "Criterion:  gini\n",
            "n_estimator:  10\n",
            "Accuracy: 0.875\n",
            "n_estimator:  20\n",
            "Accuracy: 0.871\n",
            "n_estimator:  30\n",
            "Accuracy: 0.887\n",
            "n_estimator:  100\n",
            "Accuracy: 0.896\n",
            "\n",
            "\n",
            "Criterion:  entropy\n",
            "n_estimator:  10\n",
            "Accuracy: 0.854\n",
            "n_estimator:  20\n",
            "Accuracy: 0.883\n",
            "n_estimator:  30\n",
            "Accuracy: 0.887\n",
            "n_estimator:  100\n",
            "Accuracy: 0.883\n",
            "\n",
            "\n",
            "Criterion:  log_loss\n",
            "n_estimator:  10\n",
            "Accuracy: 0.892\n",
            "n_estimator:  20\n",
            "Accuracy: 0.867\n",
            "n_estimator:  30\n",
            "Accuracy: 0.883\n",
            "n_estimator:  100\n",
            "Accuracy: 0.879\n",
            "\n",
            "\n"
          ]
        }
      ],
      "source": [
        "ns_estimators = [10, 20, 30, 100]\n",
        "criterions = [\"gini\", \"entropy\", \"log_loss\"]\n",
        "for criterion in criterions:\n",
        "    print(\"Criterion: \", criterion)\n",
        "    for n_estimator in ns_estimators:\n",
        "        print(\"n_estimator: \", n_estimator)\n",
        "        ## Instanciando Random Forest\n",
        "        rf = RandomForestClassifier(n_estimators=n_estimator, criterion=criterion)\n",
        "\n",
        "        rf.fit(X_train,y_train)\n",
        "        y_pred = rf.predict(X_test)\n",
        "\n",
        "        # Model Accuracy\n",
        "        acuracia = metrics.accuracy_score(y_test, y_pred)\n",
        "        print('Accuracy: %.3f' % acuracia)\n",
        "    print()\n",
        "    print()"
      ]
    }
  ],
  "metadata": {
    "colab": {
      "provenance": []
    },
    "kernelspec": {
      "display_name": "Python 3",
      "name": "python3"
    },
    "language_info": {
      "codemirror_mode": {
        "name": "ipython",
        "version": 3
      },
      "file_extension": ".py",
      "mimetype": "text/x-python",
      "name": "python",
      "nbconvert_exporter": "python",
      "pygments_lexer": "ipython3",
      "version": "3.10.12"
    }
  },
  "nbformat": 4,
  "nbformat_minor": 0
}
