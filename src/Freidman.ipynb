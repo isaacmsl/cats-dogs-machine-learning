{
  "cells": [
    {
      "cell_type": "markdown",
      "metadata": {},
      "source": [
        "## Teste Freidman"
      ]
    },
    {
      "cell_type": "markdown",
      "metadata": {},
      "source": [
        "Os melhores modelos de cada técnica são:\n",
        "\n",
        "```\n",
        "kNN: knn-7 (ACC: 0.843667)\n",
        "DT: d=9 (ACC: 0.788708)\n",
        "NB: MultinomialNB (ACC: 0.862375)\n",
        "MLP: Config. 4 (ACC: 0.895083)\n",
        "```"
      ]
    },
    {
      "cell_type": "code",
      "execution_count": 1,
      "metadata": {
        "colab": {
          "base_uri": "https://localhost:8080/"
        },
        "id": "Y9CfKFaUQ6rd",
        "outputId": "53424ec3-caf8-4167-e0fa-68fe01b485bb"
      },
      "outputs": [
        {
          "name": "stdout",
          "output_type": "stream",
          "text": [
            "Defaulting to user installation because normal site-packages is not writeable\n",
            "Collecting scikit-posthocs\n",
            "  Downloading scikit_posthocs-0.11.2-py3-none-any.whl (33 kB)\n",
            "Requirement already satisfied: statsmodels in /home/isaac/.local/lib/python3.10/site-packages (from scikit-posthocs) (0.14.4)\n",
            "Requirement already satisfied: matplotlib in /home/isaac/.local/lib/python3.10/site-packages (from scikit-posthocs) (3.8.3)\n",
            "Requirement already satisfied: scipy>=1.9.0 in /home/isaac/.local/lib/python3.10/site-packages (from scikit-posthocs) (1.11.4)\n",
            "Requirement already satisfied: numpy in /home/isaac/.local/lib/python3.10/site-packages (from scikit-posthocs) (1.26.4)\n",
            "Requirement already satisfied: pandas>=0.20.0 in /home/isaac/.local/lib/python3.10/site-packages (from scikit-posthocs) (2.1.4)\n",
            "Collecting seaborn\n",
            "  Using cached seaborn-0.13.2-py3-none-any.whl (294 kB)\n",
            "Requirement already satisfied: python-dateutil>=2.8.2 in /home/isaac/.local/lib/python3.10/site-packages (from pandas>=0.20.0->scikit-posthocs) (2.9.0.post0)\n",
            "Requirement already satisfied: pytz>=2020.1 in /usr/lib/python3/dist-packages (from pandas>=0.20.0->scikit-posthocs) (2022.1)\n",
            "Requirement already satisfied: tzdata>=2022.1 in /home/isaac/.local/lib/python3.10/site-packages (from pandas>=0.20.0->scikit-posthocs) (2024.1)\n",
            "Requirement already satisfied: contourpy>=1.0.1 in /home/isaac/.local/lib/python3.10/site-packages (from matplotlib->scikit-posthocs) (1.2.1)\n",
            "Requirement already satisfied: pyparsing>=2.3.1 in /usr/lib/python3/dist-packages (from matplotlib->scikit-posthocs) (2.4.7)\n",
            "Requirement already satisfied: pillow>=8 in /home/isaac/.local/lib/python3.10/site-packages (from matplotlib->scikit-posthocs) (11.0.0)\n",
            "Requirement already satisfied: packaging>=20.0 in /home/isaac/.local/lib/python3.10/site-packages (from matplotlib->scikit-posthocs) (24.2)\n",
            "Requirement already satisfied: cycler>=0.10 in /home/isaac/.local/lib/python3.10/site-packages (from matplotlib->scikit-posthocs) (0.12.1)\n",
            "Requirement already satisfied: kiwisolver>=1.3.1 in /home/isaac/.local/lib/python3.10/site-packages (from matplotlib->scikit-posthocs) (1.4.5)\n",
            "Requirement already satisfied: fonttools>=4.22.0 in /home/isaac/.local/lib/python3.10/site-packages (from matplotlib->scikit-posthocs) (4.51.0)\n",
            "Requirement already satisfied: patsy>=0.5.6 in /home/isaac/.local/lib/python3.10/site-packages (from statsmodels->scikit-posthocs) (1.0.1)\n",
            "Requirement already satisfied: six>=1.5 in /home/isaac/.local/lib/python3.10/site-packages (from python-dateutil>=2.8.2->pandas>=0.20.0->scikit-posthocs) (1.17.0)\n",
            "Installing collected packages: seaborn, scikit-posthocs\n",
            "Successfully installed scikit-posthocs-0.11.2 seaborn-0.13.2\n",
            "Note: you may need to restart the kernel to use updated packages.\n"
          ]
        }
      ],
      "source": [
        "%pip install scikit-posthocs"
      ]
    },
    {
      "cell_type": "code",
      "execution_count": 1,
      "metadata": {
        "id": "IAT-wbHTQ_kT"
      },
      "outputs": [],
      "source": [
        "import pandas as pd\n",
        "data = pd.DataFrame({\n",
        "    'knn-1': [0.758, 0.796, 0.767, 0.762, 0.845, 0.850, 0.827, 0.846, 0.850, 0.854, 0.825, 0.842, 0.773, 0.804, 0.768, 0.775, 0.842, 0.846, 0.857, 0.858, 0.838, 0.833, 0.870, 0.879],\n",
        "    'knn-2': [0.737, 0.775, 0.753, 0.738, 0.833, 0.817, 0.826, 0.833, 0.826, 0.817, 0.836, 0.833, 0.779, 0.779, 0.778, 0.771, 0.836, 0.804, 0.863, 0.867, 0.842, 0.833, 0.863, 0.854],\n",
        "    'knn-3': [0.765, 0.783, 0.771, 0.783, 0.852, 0.863, 0.826, 0.858, 0.860, 0.863, 0.860, 0.863, 0.797, 0.804, 0.801, 0.796, 0.850, 0.846, 0.858, 0.858, 0.867, 0.858, 0.886, 0.846],\n",
        "    'knn-4': [0.754, 0.796, 0.775, 0.775, 0.856, 0.829, 0.851, 0.867, 0.856, 0.838, 0.858, 0.842, 0.792, 0.800, 0.810, 0.808, 0.843, 0.854, 0.868, 0.875, 0.855, 0.842, 0.880, 0.863],\n",
        "    'knn-5': [0.768, 0.783, 0.764, 0.787, 0.857, 0.846, 0.855, 0.892, 0.856, 0.875, 0.875, 0.883, 0.802, 0.800, 0.826, 0.808, 0.867, 0.854, 0.878, 0.867, 0.868, 0.858, 0.880, 0.867],\n",
        "    'knn-6': [0.747, 0.767, 0.779, 0.796, 0.858, 0.854, 0.861, 0.883, 0.857, 0.850, 0.857, 0.854, 0.792, 0.779, 0.811, 0.792, 0.852, 0.850, 0.871, 0.871, 0.862, 0.842, 0.877, 0.867],\n",
        "    'knn-7': [0.759, 0.762, 0.774, 0.804, 0.867, 0.846, 0.877, 0.900, 0.865, 0.846, 0.876, 0.887, 0.808, 0.800, 0.822, 0.796, 0.876, 0.871, 0.871, 0.871, 0.871, 0.850, 0.882, 0.867],\n",
        "    'knn-8': [0.758, 0.783, 0.786, 0.792, 0.856, 0.842, 0.877, 0.883, 0.863, 0.858, 0.866, 0.875, 0.807, 0.792, 0.823, 0.779, 0.862, 0.854, 0.870, 0.875, 0.861, 0.838, 0.885, 0.854],\n",
        "    'knn-9': [0.757, 0.796, 0.796, 0.808, 0.860, 0.842, 0.876, 0.892, 0.866, 0.854, 0.872, 0.896, 0.806, 0.821, 0.818, 0.787, 0.861, 0.854, 0.877, 0.879, 0.873, 0.829, 0.886, 0.863],\n",
        "    'knn-10': [0.753, 0.787, 0.781, 0.804, 0.853, 0.838, 0.870, 0.879, 0.861, 0.850, 0.873, 0.892, 0.801, 0.808, 0.816, 0.792, 0.860, 0.863, 0.883, 0.854, 0.865, 0.833, 0.878, 0.863]\n",
        "})\n"
      ]
    },
    {
      "cell_type": "code",
      "execution_count": 12,
      "metadata": {
        "colab": {
          "base_uri": "https://localhost:8080/"
        },
        "id": "xAlLHYx3RB1d",
        "outputId": "b3b3143b-7a29-4c75-ac1a-f995ea874947"
      },
      "outputs": [
        {
          "name": "stdout",
          "output_type": "stream",
          "text": [
            "Teste de Friedman:\n",
            "p-valor: 0.0000\n",
            "qui-quadrado: 86.2577\n",
            "\n"
          ]
        }
      ],
      "source": [
        "# Teste de Friedman\n",
        "from scipy.stats import friedmanchisquare\n",
        "friedman_chi2, friedman_p_value = friedmanchisquare(*[data[col] for col in data.columns])\n",
        "print(\"Teste de Friedman:\")\n",
        "print(f\"p-valor: {friedman_p_value:.4f}\")\n",
        "print(f\"qui-quadrado: {friedman_chi2:.4f}\\n\")"
      ]
    },
    {
      "cell_type": "markdown",
      "metadata": {},
      "source": [
        "Como *p-valor* é 0, há diferença no desempenhos entre as configurações. Dessa forma, vamos identificar as melhores configurações com base na média da acurácia."
      ]
    },
    {
      "cell_type": "code",
      "execution_count": 2,
      "metadata": {},
      "outputs": [
        {
          "data": {
            "text/plain": [
              "knn-9     0.844542\n",
              "knn-7     0.843667\n",
              "knn-5     0.842333\n",
              "knn-10    0.839875\n",
              "knn-8     0.839125\n",
              "knn-6     0.834542\n",
              "knn-3     0.833917\n",
              "knn-4     0.832792\n",
              "knn-1     0.823542\n",
              "knn-2     0.812208\n",
              "dtype: float64"
            ]
          },
          "execution_count": 2,
          "metadata": {},
          "output_type": "execute_result"
        }
      ],
      "source": [
        "# ordenar knns com base na média\n",
        "mean = data.mean()\n",
        "mean = mean.sort_values(ascending=False)\n",
        "mean"
      ]
    },
    {
      "cell_type": "markdown",
      "metadata": {},
      "source": [
        "Os três melhores modelos são o knn-9, knn-7 e kkn-5. Agora vamos analisar o com o teste de Nemenyi se há uma diferença significativa no desempenho entre esses modelos."
      ]
    },
    {
      "cell_type": "code",
      "execution_count": 4,
      "metadata": {
        "colab": {
          "base_uri": "https://localhost:8080/"
        },
        "id": "m1qAcnNARDmH",
        "outputId": "f0c6d2d7-dbaf-4385-cd85-863dd34b51c5"
      },
      "outputs": [
        {
          "name": "stdout",
          "output_type": "stream",
          "text": [
            "Teste Nemenyi (pós-hoc):\n",
            "           knn-1         knn-2     knn-3     knn-4         knn-5     knn-6  \\\n",
            "knn-1   1.000000  5.632961e-01  0.580375  0.909857  1.385319e-03  0.631193   \n",
            "knn-2   0.563296  1.000000e+00  0.001870  0.016585  2.576215e-08  0.002509   \n",
            "knn-3   0.580375  1.869785e-03  1.000000  0.999910  5.120886e-01  1.000000   \n",
            "knn-4   0.909857  1.658484e-02  0.999910  1.000000  1.760639e-01  0.999971   \n",
            "knn-5   0.001385  2.576215e-08  0.512089  0.176064  1.000000e+00  0.461560   \n",
            "knn-6   0.631193  2.508982e-03  1.000000  0.999971  4.615596e-01  1.000000   \n",
            "knn-7   0.000064  2.992260e-10  0.140051  0.026867  9.996758e-01  0.116900   \n",
            "knn-8   0.033856  4.148376e-06  0.961599  0.712578  9.975806e-01  0.945717   \n",
            "knn-9   0.000072  3.534949e-10  0.148490  0.029042  9.997598e-01  0.124263   \n",
            "knn-10  0.096837  2.771663e-05  0.996337  0.901178  9.700986e-01  0.993526   \n",
            "\n",
            "               knn-7     knn-8         knn-9    knn-10  \n",
            "knn-1   6.429601e-05  0.033856  7.233761e-05  0.096837  \n",
            "knn-2   2.992260e-10  0.000004  3.534949e-10  0.000028  \n",
            "knn-3   1.400505e-01  0.961599  1.484900e-01  0.996337  \n",
            "knn-4   2.686748e-02  0.712578  2.904165e-02  0.901178  \n",
            "knn-5   9.996758e-01  0.997581  9.997598e-01  0.970099  \n",
            "knn-6   1.168999e-01  0.945717  1.242628e-01  0.993526  \n",
            "knn-7   1.000000e+00  0.882270  1.000000e+00  0.680711  \n",
            "knn-8   8.822701e-01  1.000000  8.919828e-01  0.999998  \n",
            "knn-9   1.000000e+00  0.891983  1.000000e+00  0.696779  \n",
            "knn-10  6.807106e-01  0.999998  6.967792e-01  1.000000  \n"
          ]
        }
      ],
      "source": [
        "# Teste Nemenyi pós-hoc\n",
        "from scikit_posthocs import posthoc_nemenyi_friedman\n",
        "# Teste Nemenyi pós-hoc\n",
        "nemenyi_results = posthoc_nemenyi_friedman(data)\n",
        "print(\"Teste Nemenyi (pós-hoc):\")\n",
        "print(nemenyi_results)"
      ]
    },
    {
      "cell_type": "code",
      "execution_count": 7,
      "metadata": {},
      "outputs": [
        {
          "data": {
            "text/plain": [
              "knn-2     0.158429\n",
              "knn-1     0.381693\n",
              "knn-7     0.484654\n",
              "knn-9     0.489039\n",
              "knn-4     0.577205\n",
              "knn-5     0.611821\n",
              "knn-6     0.627564\n",
              "knn-3     0.634072\n",
              "knn-10    0.733549\n",
              "knn-8     0.742559\n",
              "dtype: float64"
            ]
          },
          "execution_count": 7,
          "metadata": {},
          "output_type": "execute_result"
        }
      ],
      "source": [
        "# média dos p-valores por linha\n",
        "p_values = nemenyi_results.mean(axis=1).sort_values()\n",
        "p_values"
      ]
    },
    {
      "cell_type": "markdown",
      "metadata": {},
      "source": [
        "Entre os três modelos, o que apresenta maior diferença entre os modelos é o knn-7."
      ]
    },
    {
      "cell_type": "markdown",
      "metadata": {},
      "source": [
        "## Decision Tree"
      ]
    },
    {
      "cell_type": "code",
      "execution_count": 10,
      "metadata": {},
      "outputs": [],
      "source": [
        "data = pd.DataFrame({\n",
        "    'd=2': [0.650, 0.537, 0.696, 0.713, 0.750, 0.746, 0.785, 0.750, 0.793, 0.775, 0.772, 0.775, 0.723, 0.683, 0.732, 0.721, 0.763, 0.738, 0.821, 0.800, 0.811, 0.783, 0.768, 0.754],\n",
        "    'd=3': [0.664, 0.679, 0.707, 0.725, 0.807, 0.771, 0.801, 0.758, 0.828, 0.804, 0.783, 0.783, 0.759, 0.746, 0.739, 0.754, 0.787, 0.787, 0.843, 0.829, 0.802, 0.808, 0.784, 0.825],\n",
        "    'd=4': [0.697, 0.717, 0.742, 0.725, 0.801, 0.779, 0.818, 0.746, 0.828, 0.804, 0.810, 0.779, 0.764, 0.779, 0.752, 0.742, 0.826, 0.783, 0.832, 0.796, 0.836, 0.846, 0.821, 0.838],\n",
        "    'd=5': [0.691, 0.717, 0.728, 0.708, 0.791, 0.754, 0.807, 0.733, 0.838, 0.808, 0.795, 0.796, 0.776, 0.771, 0.774, 0.767, 0.832, 0.804, 0.837, 0.854, 0.851, 0.863, 0.819, 0.833],\n",
        "    'd=6': [0.696, 0.717, 0.724, 0.688, 0.772, 0.746, 0.811, 0.738, 0.848, 0.821, 0.803, 0.796, 0.776, 0.779, 0.777, 0.796, 0.827, 0.804, 0.836, 0.858, 0.833, 0.817, 0.840, 0.817],\n",
        "    'd=7': [0.697, 0.717, 0.723, 0.688, 0.772, 0.754, 0.793, 0.717, 0.836, 0.796, 0.810, 0.800, 0.764, 0.771, 0.782, 0.771, 0.833, 0.808, 0.821, 0.858, 0.817, 0.838, 0.847, 0.817],\n",
        "    'd=8': [0.688, 0.738, 0.727, 0.700, 0.783, 0.771, 0.788, 0.721, 0.832, 0.800, 0.807, 0.821, 0.763, 0.771, 0.774, 0.767, 0.826, 0.821, 0.820, 0.861, 0.838, 0.829, 0.842, 0.833],\n",
        "    'd=9': [0.705, 0.721, 0.733, 0.729, 0.781, 0.746, 0.807, 0.700, 0.825, 0.817, 0.813, 0.808, 0.761, 0.779, 0.751, 0.758, 0.843, 0.812, 0.821, 0.853, 0.838, 0.836, 0.846, 0.846],\n",
        "    'd=10': [0.705, 0.725, 0.707, 0.696, 0.772, 0.762, 0.802, 0.729, 0.838, 0.821, 0.796, 0.808, 0.758, 0.779, 0.761, 0.771, 0.835, 0.812, 0.822, 0.848, 0.829, 0.836, 0.829, 0.829]\n",
        "})"
      ]
    },
    {
      "cell_type": "code",
      "execution_count": 12,
      "metadata": {},
      "outputs": [
        {
          "name": "stdout",
          "output_type": "stream",
          "text": [
            "Teste de Friedman:\n",
            "p-valor: 0.0000\n",
            "qui-quadrado: 50.7585\n",
            "\n"
          ]
        }
      ],
      "source": [
        "from scipy.stats import friedmanchisquare\n",
        "friedman_chi2, friedman_p_value = friedmanchisquare(*[data[col] for col in data.columns])\n",
        "print(\"Teste de Friedman:\")\n",
        "print(f\"p-valor: {friedman_p_value:.4f}\")\n",
        "print(f\"qui-quadrado: {friedman_chi2:.4f}\\n\")"
      ]
    },
    {
      "cell_type": "markdown",
      "metadata": {},
      "source": [
        "Como *p-valor* é 0, há diferença no desempenhos entre as configurações. Dessa forma, vamos identificar as melhores configurações com base na média da acurácia."
      ]
    },
    {
      "cell_type": "code",
      "execution_count": 13,
      "metadata": {},
      "outputs": [
        {
          "data": {
            "text/plain": [
              "d=5     0.789458\n",
              "d=9     0.788708\n",
              "d=8     0.788375\n",
              "d=6     0.788333\n",
              "d=10    0.786250\n",
              "d=4     0.785875\n",
              "d=7     0.784583\n",
              "d=3     0.773875\n",
              "d=2     0.743292\n",
              "dtype: float64"
            ]
          },
          "execution_count": 13,
          "metadata": {},
          "output_type": "execute_result"
        }
      ],
      "source": [
        "mean = data.mean()\n",
        "mean = mean.sort_values(ascending=False)\n",
        "mean"
      ]
    },
    {
      "cell_type": "markdown",
      "metadata": {},
      "source": [
        "Os três melhores algoritmos são: d=5, d=9 e d=8. Veremos agora qual destes é o melhor com o teste Nemenyi pós-hoc."
      ]
    },
    {
      "cell_type": "code",
      "execution_count": 14,
      "metadata": {},
      "outputs": [
        {
          "name": "stdout",
          "output_type": "stream",
          "text": [
            "Teste Nemenyi (pós-hoc):\n",
            "           d=2       d=3       d=4       d=5       d=6       d=7       d=8  \\\n",
            "d=2   1.000000  0.142609  0.000017  0.000005  0.000022  0.000590  0.000057   \n",
            "d=3   0.142609  1.000000  0.330407  0.205423  0.362798  0.815420  0.485822   \n",
            "d=4   0.000017  0.330407  1.000000  1.000000  1.000000  0.998250  1.000000   \n",
            "d=5   0.000005  0.205423  1.000000  1.000000  0.999999  0.988126  0.999934   \n",
            "d=6   0.000022  0.362798  1.000000  0.999999  1.000000  0.998974  1.000000   \n",
            "d=7   0.000590  0.815420  0.998250  0.988126  0.998974  1.000000  0.999901   \n",
            "d=8   0.000057  0.485822  1.000000  0.999934  1.000000  0.999901  1.000000   \n",
            "d=9   0.000001  0.117173  0.999934  1.000000  0.999853  0.954110  0.998652   \n",
            "d=10  0.000038  0.431583  1.000000  0.999984  1.000000  0.999700  1.000000   \n",
            "\n",
            "           d=9      d=10  \n",
            "d=2   0.000001  0.000038  \n",
            "d=3   0.117173  0.431583  \n",
            "d=4   0.999934  1.000000  \n",
            "d=5   1.000000  0.999984  \n",
            "d=6   0.999853  1.000000  \n",
            "d=7   0.954110  0.999700  \n",
            "d=8   0.998652  1.000000  \n",
            "d=9   1.000000  0.999428  \n",
            "d=10  0.999428  1.000000  \n"
          ]
        }
      ],
      "source": [
        "# Teste Nemenyi pós-hoc\n",
        "nemenyi_results = posthoc_nemenyi_friedman(data)\n",
        "print(\"Teste Nemenyi (pós-hoc):\")\n",
        "print(nemenyi_results)"
      ]
    },
    {
      "cell_type": "code",
      "execution_count": 15,
      "metadata": {},
      "outputs": [
        {
          "data": {
            "text/plain": [
              "d=2     0.127038\n",
              "d=3     0.432359\n",
              "d=9     0.785461\n",
              "d=5     0.799274\n",
              "d=4     0.814290\n",
              "d=6     0.817961\n",
              "d=10    0.825637\n",
              "d=8     0.831596\n",
              "d=7     0.861674\n",
              "dtype: float64"
            ]
          },
          "execution_count": 15,
          "metadata": {},
          "output_type": "execute_result"
        }
      ],
      "source": [
        "# média dos p-valores por linha\n",
        "p_values = nemenyi_results.mean(axis=1).sort_values()\n",
        "p_values"
      ]
    },
    {
      "cell_type": "markdown",
      "metadata": {},
      "source": [
        "Desses três modelos, o que apresenta maior diferença de desempenho entre os demais modelos é o d=9."
      ]
    },
    {
      "cell_type": "markdown",
      "metadata": {},
      "source": [
        "## Naive Bayes"
      ]
    },
    {
      "cell_type": "code",
      "execution_count": 17,
      "metadata": {},
      "outputs": [],
      "source": [
        "data = pd.DataFrame({\n",
        "    'GaussianNB': [0.801, 0.762, 0.823, 0.800, 0.863, 0.838, 0.867, 0.812, 0.880, 0.871, 0.865, 0.829, 0.823, 0.833, 0.828, 0.842, 0.881, 0.883, 0.885, 0.858, 0.877, 0.858, 0.886, 0.879],\n",
        "    'MultinomialNB': [0.838, 0.850, 0.838, 0.829, 0.887, 0.896, 0.887, 0.892, 0.881, 0.900, 0.889, 0.900, 0.796, 0.825, 0.810, 0.842, 0.862, 0.871, 0.863, 0.867, 0.875, 0.867, 0.874, 0.858],\n",
        "    'ComplementNB': [0.815, 0.821, 0.807, 0.812, 0.861, 0.850, 0.851, 0.842, 0.871, 0.871, 0.865, 0.854, 0.822, 0.833, 0.817, 0.846, 0.895, 0.875, 0.866, 0.858, 0.873, 0.846, 0.863, 0.854]\n",
        "})"
      ]
    },
    {
      "cell_type": "code",
      "execution_count": 18,
      "metadata": {},
      "outputs": [
        {
          "name": "stdout",
          "output_type": "stream",
          "text": [
            "Teste de Friedman:\n",
            "p-valor: 0.0984\n",
            "qui-quadrado: 4.6374\n",
            "\n"
          ]
        }
      ],
      "source": [
        "friedman_chi2, friedman_p_value = friedmanchisquare(*[data[col] for col in data.columns])\n",
        "print(\"Teste de Friedman:\")\n",
        "print(f\"p-valor: {friedman_p_value:.4f}\")\n",
        "print(f\"qui-quadrado: {friedman_chi2:.4f}\\n\")"
      ]
    },
    {
      "cell_type": "code",
      "execution_count": 21,
      "metadata": {},
      "outputs": [
        {
          "name": "stdout",
          "output_type": "stream",
          "text": [
            "Teste Nemenyi (pós-hoc):\n",
            "               GaussianNB  MultinomialNB  ComplementNB\n",
            "GaussianNB       1.000000       0.480433      0.616072\n",
            "MultinomialNB    0.480433       1.000000      0.091279\n",
            "ComplementNB     0.616072       0.091279      1.000000\n"
          ]
        }
      ],
      "source": [
        "# Teste Nemenyi pós-hoc\n",
        "nemenyi_results = posthoc_nemenyi_friedman(data)\n",
        "print(\"Teste Nemenyi (pós-hoc):\")\n",
        "print(nemenyi_results)"
      ]
    },
    {
      "cell_type": "markdown",
      "metadata": {},
      "source": [
        "Como o *p-valor* é maior que 0.05, comprova-se a hipótese nula. Todos os três modelos possuem desempenho similar. É suficiente considerar a melhor modelo com base apenas na média."
      ]
    },
    {
      "cell_type": "code",
      "execution_count": null,
      "metadata": {},
      "outputs": [
        {
          "data": {
            "text/plain": [
              "MultinomialNB    0.862375\n",
              "ComplementNB     0.848667\n",
              "GaussianNB       0.847667\n",
              "dtype: float64"
            ]
          },
          "execution_count": 19,
          "metadata": {},
          "output_type": "execute_result"
        }
      ],
      "source": [
        "mean = data.mean()\n",
        "mean = mean.sort_values(ascending=False)\n",
        "mean"
      ]
    },
    {
      "cell_type": "markdown",
      "metadata": {},
      "source": [
        "Dessa forma, o melhor modelo para NB é o MultinomialNB."
      ]
    },
    {
      "cell_type": "markdown",
      "metadata": {},
      "source": [
        "## MLP"
      ]
    },
    {
      "cell_type": "code",
      "execution_count": 25,
      "metadata": {},
      "outputs": [],
      "source": [
        "data = pd.DataFrame({\n",
        "    'Config. 1': [0.858, 0.854, 0.861, 0.842, 0.910, 0.912, 0.909, 0.904, 0.916, 0.917, 0.917, 0.912, 0.850, 0.850, 0.855, 0.863, 0.907, 0.921, 0.907, 0.896, 0.917, 0.908, 0.914, 0.892],\n",
        "    'Config. 2': [0.863, 0.838, 0.862, 0.825, 0.914, 0.933, 0.912, 0.879, 0.915, 0.917, 0.920, 0.908, 0.861, 0.854, 0.857, 0.858, 0.911, 0.929, 0.917, 0.908, 0.920, 0.892, 0.924, 0.892],\n",
        "    'Config. 3': [0.871, 0.850, 0.862, 0.871, 0.921, 0.938, 0.910, 0.908, 0.931, 0.917, 0.924, 0.912, 0.846, 0.850, 0.855, 0.850, 0.906, 0.908, 0.910, 0.887, 0.915, 0.900, 0.919, 0.887],\n",
        "    'Config. 4': [0.862, 0.858, 0.865, 0.858, 0.915, 0.921, 0.916, 0.896, 0.929, 0.900, 0.921, 0.925, 0.858, 0.858, 0.858, 0.842, 0.911, 0.929, 0.914, 0.912, 0.922, 0.896, 0.920, 0.896],\n",
        "    'Config. 5': [0.851, 0.829, 0.841, 0.817, 0.890, 0.904, 0.887, 0.908, 0.902, 0.900, 0.907, 0.887, 0.847, 0.850, 0.858, 0.858, 0.902, 0.892, 0.899, 0.879, 0.905, 0.883, 0.907, 0.883],\n",
        "    'Config. 6': [0.863, 0.871, 0.860, 0.871, 0.922, 0.942, 0.906, 0.925, 0.914, 0.921, 0.926, 0.912, 0.846, 0.846, 0.853, 0.858, 0.914, 0.908, 0.909, 0.892, 0.912, 0.900, 0.924, 0.892],\n",
        "    'Config. 7': [0.867, 0.863, 0.858, 0.858, 0.915, 0.933, 0.905, 0.912, 0.911, 0.917, 0.924, 0.917, 0.835, 0.829, 0.858, 0.846, 0.911, 0.904, 0.912, 0.900, 0.917, 0.900, 0.912, 0.900],\n",
        "    'Config. 8': [0.861, 0.858, 0.858, 0.867, 0.926, 0.933, 0.911, 0.908, 0.914, 0.921, 0.920, 0.921, 0.848, 0.846, 0.852, 0.850, 0.914, 0.904, 0.906, 0.896, 0.921, 0.896, 0.915, 0.896],\n",
        "    'Config. 9': [0.868, 0.867, 0.862, 0.854, 0.920, 0.938, 0.909, 0.908, 0.920, 0.942, 0.925, 0.912, 0.840, 0.842, 0.846, 0.838, 0.900, 0.912, 0.904, 0.883, 0.912, 0.896, 0.911, 0.896],\n",
        "    'Config. 10': [0.880, 0.854, 0.863, 0.863, 0.915, 0.917, 0.912, 0.921, 0.915, 0.912, 0.921, 0.908, 0.848, 0.846, 0.847, 0.825, 0.910, 0.912, 0.909, 0.879, 0.925, 0.879, 0.905, 0.879],\n",
        "    'Config. 11': [0.866, 0.846, 0.868, 0.850, 0.916, 0.950, 0.914, 0.925, 0.916, 0.925, 0.912, 0.917, 0.817, 0.812, 0.828, 0.825, 0.895, 0.912, 0.891, 0.879, 0.925, 0.879, 0.905, 0.879],\n",
        "    'Config. 12': [0.862, 0.867, 0.860, 0.854, 0.926, 0.938, 0.914, 0.912, 0.926, 0.938, 0.920, 0.904, 0.847, 0.846, 0.855, 0.854, 0.910, 0.908, 0.907, 0.892, 0.938, 0.900, 0.916, 0.896]\n",
        "})"
      ]
    },
    {
      "cell_type": "code",
      "execution_count": 26,
      "metadata": {},
      "outputs": [
        {
          "name": "stdout",
          "output_type": "stream",
          "text": [
            "Teste de Friedman:\n",
            "p-valor: 0.0000\n",
            "qui-quadrado: 40.9885\n",
            "\n"
          ]
        }
      ],
      "source": [
        "friedman_chi2, friedman_p_value = friedmanchisquare(*[data[col] for col in data.columns])\n",
        "print(\"Teste de Friedman:\")\n",
        "print(f\"p-valor: {friedman_p_value:.4f}\")\n",
        "print(f\"qui-quadrado: {friedman_chi2:.4f}\\n\")"
      ]
    },
    {
      "cell_type": "markdown",
      "metadata": {},
      "source": [
        "Como *p-valor* é 0, há diferença no desempenhos entre as configurações. Dessa forma, vamos identificar as melhores configurações com base na média da acurácia."
      ]
    },
    {
      "cell_type": "code",
      "execution_count": 27,
      "metadata": {},
      "outputs": [
        {
          "data": {
            "text/plain": [
              "Config. 12    0.895417\n",
              "Config. 6     0.895292\n",
              "Config. 4     0.895083\n",
              "Config. 3     0.893667\n",
              "Config. 8     0.893417\n",
              "Config. 2     0.892042\n",
              "Config. 9     0.891875\n",
              "Config. 7     0.891833\n",
              "Config. 1     0.891333\n",
              "Config. 10    0.889375\n",
              "Config. 11    0.885500\n",
              "Config. 5     0.878583\n",
              "dtype: float64"
            ]
          },
          "execution_count": 27,
          "metadata": {},
          "output_type": "execute_result"
        }
      ],
      "source": [
        "mean = data.mean()\n",
        "mean = mean.sort_values(ascending=False)\n",
        "mean"
      ]
    },
    {
      "cell_type": "markdown",
      "metadata": {},
      "source": [
        "Os três melhores algoritmos são: Config. 12, Config. 6 e Config. 4. Veremos agora qual destes é o melhor com o teste Nemenyi pós-hoc."
      ]
    },
    {
      "cell_type": "code",
      "execution_count": 28,
      "metadata": {},
      "outputs": [
        {
          "name": "stdout",
          "output_type": "stream",
          "text": [
            "Teste Nemenyi (pós-hoc):\n",
            "            Config. 1  Config. 2  Config. 3  Config. 4  Config. 5  Config. 6  \\\n",
            "Config. 1    1.000000   0.998700   0.995490   0.563010   0.102003   0.929165   \n",
            "Config. 2    0.998700   1.000000   1.000000   0.985675   0.004244   0.999984   \n",
            "Config. 3    0.995490   1.000000   1.000000   0.994715   0.002399   0.999999   \n",
            "Config. 4    0.563010   0.985675   0.994715   1.000000   0.000013   0.999969   \n",
            "Config. 5    0.102003   0.004244   0.002399   0.000013   1.000000   0.000314   \n",
            "Config. 6    0.929165   0.999984   0.999999   0.999969   0.000314   1.000000   \n",
            "Config. 7    0.999998   0.999999   0.999989   0.877074   0.021792   0.996760   \n",
            "Config. 8    0.999978   1.000000   0.999999   0.922854   0.014294   0.998934   \n",
            "Config. 9    1.000000   0.999548   0.998097   0.636062   0.077107   0.955424   \n",
            "Config. 10   1.000000   0.987436   0.970654   0.364218   0.205587   0.806512   \n",
            "Config. 11   0.999868   0.877074   0.806512   0.132893   0.489635   0.489635   \n",
            "Config. 12   0.963629   0.999999   1.000000   0.999779   0.000598   1.000000   \n",
            "\n",
            "            Config. 7  Config. 8  Config. 9  Config. 10  Config. 11  \\\n",
            "Config. 1    0.999998   0.999978   1.000000    1.000000    0.999868   \n",
            "Config. 2    0.999999   1.000000   0.999548    0.987436    0.877074   \n",
            "Config. 3    0.999989   0.999999   0.998097    0.970654    0.806512   \n",
            "Config. 4    0.877074   0.922854   0.636062    0.364218    0.132893   \n",
            "Config. 5    0.021792   0.014294   0.077107    0.205587    0.489635   \n",
            "Config. 6    0.996760   0.998934   0.955424    0.806512    0.489635   \n",
            "Config. 7    1.000000   1.000000   1.000000    0.999779    0.985675   \n",
            "Config. 8    1.000000   1.000000   0.999996    0.999132    0.970654   \n",
            "Config. 9    1.000000   0.999996   1.000000    1.000000    0.999548   \n",
            "Config. 10   0.999779   0.999132   1.000000    1.000000    0.999999   \n",
            "Config. 11   0.985675   0.970654   0.999548    0.999999    1.000000   \n",
            "Config. 12   0.999132   0.999779   0.979200    0.877074    0.592412   \n",
            "\n",
            "            Config. 12  \n",
            "Config. 1     0.963629  \n",
            "Config. 2     0.999999  \n",
            "Config. 3     1.000000  \n",
            "Config. 4     0.999779  \n",
            "Config. 5     0.000598  \n",
            "Config. 6     1.000000  \n",
            "Config. 7     0.999132  \n",
            "Config. 8     0.999779  \n",
            "Config. 9     0.979200  \n",
            "Config. 10    0.877074  \n",
            "Config. 11    0.592412  \n",
            "Config. 12    1.000000  \n"
          ]
        }
      ],
      "source": [
        "# Teste Nemenyi pós-hoc\n",
        "nemenyi_results = posthoc_nemenyi_friedman(data)\n",
        "print(\"Teste Nemenyi (pós-hoc):\")\n",
        "print(nemenyi_results)"
      ]
    },
    {
      "cell_type": "code",
      "execution_count": 29,
      "metadata": {},
      "outputs": [
        {
          "data": {
            "text/plain": [
              "Config. 5     0.159832\n",
              "Config. 4     0.706355\n",
              "Config. 11    0.778659\n",
              "Config. 6     0.848058\n",
              "Config. 10    0.850866\n",
              "Config. 12    0.867633\n",
              "Config. 1     0.879320\n",
              "Config. 9     0.887082\n",
              "Config. 3     0.897321\n",
              "Config. 2     0.904388\n",
              "Config. 7     0.906683\n",
              "Config. 8     0.908802\n",
              "dtype: float64"
            ]
          },
          "execution_count": 29,
          "metadata": {},
          "output_type": "execute_result"
        }
      ],
      "source": [
        "# média dos p-valores por linha\n",
        "p_values = nemenyi_results.mean(axis=1).sort_values()\n",
        "p_values"
      ]
    },
    {
      "cell_type": "markdown",
      "metadata": {},
      "source": [
        "Dentre os três modelos, o que apresenta maior diferença de desempenho entre os demais modelos é o Config. 4.\n"
      ]
    }
  ],
  "metadata": {
    "colab": {
      "provenance": []
    },
    "kernelspec": {
      "display_name": "Python 3",
      "name": "python3"
    },
    "language_info": {
      "codemirror_mode": {
        "name": "ipython",
        "version": 3
      },
      "file_extension": ".py",
      "mimetype": "text/x-python",
      "name": "python",
      "nbconvert_exporter": "python",
      "pygments_lexer": "ipython3",
      "version": "3.10.12"
    }
  },
  "nbformat": 4,
  "nbformat_minor": 0
}
