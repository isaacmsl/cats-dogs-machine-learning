{
  "cells": [
    {
      "cell_type": "markdown",
      "metadata": {},
      "source": [
        "## Teste Freidman"
      ]
    },
    {
      "cell_type": "markdown",
      "metadata": {},
      "source": [
        "Os melhores modelos de cada técnica são:\n",
        "\n",
        "```\n",
        "kNN: knn-7 (ACC: 0.843667)\n",
        "DT: d=9 (ACC: 0.788708)\n",
        "NB: MultinomialNB (ACC: 0.862375)\n",
        "MLP: Config. 4 (ACC: 0.895083)\n",
        "```"
      ]
    },
    {
      "cell_type": "code",
      "execution_count": 1,
      "metadata": {
        "colab": {
          "base_uri": "https://localhost:8080/"
        },
        "id": "Y9CfKFaUQ6rd",
        "outputId": "53424ec3-caf8-4167-e0fa-68fe01b485bb"
      },
      "outputs": [
        {
          "name": "stdout",
          "output_type": "stream",
          "text": [
            "Defaulting to user installation because normal site-packages is not writeable\n",
            "Collecting scikit-posthocs\n",
            "  Downloading scikit_posthocs-0.11.2-py3-none-any.whl (33 kB)\n",
            "Requirement already satisfied: statsmodels in /home/isaac/.local/lib/python3.10/site-packages (from scikit-posthocs) (0.14.4)\n",
            "Requirement already satisfied: matplotlib in /home/isaac/.local/lib/python3.10/site-packages (from scikit-posthocs) (3.8.3)\n",
            "Requirement already satisfied: scipy>=1.9.0 in /home/isaac/.local/lib/python3.10/site-packages (from scikit-posthocs) (1.11.4)\n",
            "Requirement already satisfied: numpy in /home/isaac/.local/lib/python3.10/site-packages (from scikit-posthocs) (1.26.4)\n",
            "Requirement already satisfied: pandas>=0.20.0 in /home/isaac/.local/lib/python3.10/site-packages (from scikit-posthocs) (2.1.4)\n",
            "Collecting seaborn\n",
            "  Using cached seaborn-0.13.2-py3-none-any.whl (294 kB)\n",
            "Requirement already satisfied: python-dateutil>=2.8.2 in /home/isaac/.local/lib/python3.10/site-packages (from pandas>=0.20.0->scikit-posthocs) (2.9.0.post0)\n",
            "Requirement already satisfied: pytz>=2020.1 in /usr/lib/python3/dist-packages (from pandas>=0.20.0->scikit-posthocs) (2022.1)\n",
            "Requirement already satisfied: tzdata>=2022.1 in /home/isaac/.local/lib/python3.10/site-packages (from pandas>=0.20.0->scikit-posthocs) (2024.1)\n",
            "Requirement already satisfied: contourpy>=1.0.1 in /home/isaac/.local/lib/python3.10/site-packages (from matplotlib->scikit-posthocs) (1.2.1)\n",
            "Requirement already satisfied: pyparsing>=2.3.1 in /usr/lib/python3/dist-packages (from matplotlib->scikit-posthocs) (2.4.7)\n",
            "Requirement already satisfied: pillow>=8 in /home/isaac/.local/lib/python3.10/site-packages (from matplotlib->scikit-posthocs) (11.0.0)\n",
            "Requirement already satisfied: packaging>=20.0 in /home/isaac/.local/lib/python3.10/site-packages (from matplotlib->scikit-posthocs) (24.2)\n",
            "Requirement already satisfied: cycler>=0.10 in /home/isaac/.local/lib/python3.10/site-packages (from matplotlib->scikit-posthocs) (0.12.1)\n",
            "Requirement already satisfied: kiwisolver>=1.3.1 in /home/isaac/.local/lib/python3.10/site-packages (from matplotlib->scikit-posthocs) (1.4.5)\n",
            "Requirement already satisfied: fonttools>=4.22.0 in /home/isaac/.local/lib/python3.10/site-packages (from matplotlib->scikit-posthocs) (4.51.0)\n",
            "Requirement already satisfied: patsy>=0.5.6 in /home/isaac/.local/lib/python3.10/site-packages (from statsmodels->scikit-posthocs) (1.0.1)\n",
            "Requirement already satisfied: six>=1.5 in /home/isaac/.local/lib/python3.10/site-packages (from python-dateutil>=2.8.2->pandas>=0.20.0->scikit-posthocs) (1.17.0)\n",
            "Installing collected packages: seaborn, scikit-posthocs\n",
            "Successfully installed scikit-posthocs-0.11.2 seaborn-0.13.2\n",
            "Note: you may need to restart the kernel to use updated packages.\n"
          ]
        }
      ],
      "source": [
        "%pip install scikit-posthocs"
      ]
    },
    {
      "cell_type": "code",
      "execution_count": 34,
      "metadata": {
        "id": "IAT-wbHTQ_kT"
      },
      "outputs": [],
      "source": [
        "import pandas as pd\n",
        "data = pd.DataFrame({\n",
        "    'knn-1': [0.758, 0.796, 0.767, 0.762, 0.845, 0.850, 0.827, 0.846, 0.850, 0.854, 0.825, 0.842, 0.773, 0.804, 0.768, 0.775, 0.842, 0.846, 0.857, 0.858, 0.838, 0.833, 0.870, 0.879],\n",
        "    'knn-2': [0.737, 0.775, 0.753, 0.738, 0.833, 0.817, 0.826, 0.833, 0.826, 0.817, 0.836, 0.833, 0.779, 0.779, 0.778, 0.771, 0.836, 0.804, 0.863, 0.867, 0.842, 0.833, 0.863, 0.854],\n",
        "    'knn-3': [0.765, 0.783, 0.771, 0.783, 0.852, 0.863, 0.826, 0.858, 0.860, 0.863, 0.860, 0.863, 0.797, 0.804, 0.801, 0.796, 0.850, 0.846, 0.858, 0.858, 0.867, 0.858, 0.886, 0.846],\n",
        "    'knn-4': [0.754, 0.796, 0.775, 0.775, 0.856, 0.829, 0.851, 0.867, 0.856, 0.838, 0.858, 0.842, 0.792, 0.800, 0.810, 0.808, 0.843, 0.854, 0.868, 0.875, 0.855, 0.842, 0.880, 0.863],\n",
        "    'knn-5': [0.768, 0.783, 0.764, 0.787, 0.857, 0.846, 0.855, 0.892, 0.856, 0.875, 0.875, 0.883, 0.802, 0.800, 0.826, 0.808, 0.867, 0.854, 0.878, 0.867, 0.868, 0.858, 0.880, 0.867],\n",
        "    'knn-6': [0.747, 0.767, 0.779, 0.796, 0.858, 0.854, 0.861, 0.883, 0.857, 0.850, 0.857, 0.854, 0.792, 0.779, 0.811, 0.792, 0.852, 0.850, 0.871, 0.871, 0.862, 0.842, 0.877, 0.867],\n",
        "    'knn-7': [0.759, 0.762, 0.774, 0.804, 0.867, 0.846, 0.877, 0.900, 0.865, 0.846, 0.876, 0.887, 0.808, 0.800, 0.822, 0.796, 0.876, 0.871, 0.871, 0.871, 0.871, 0.850, 0.882, 0.867],\n",
        "    'knn-8': [0.758, 0.783, 0.786, 0.792, 0.856, 0.842, 0.877, 0.883, 0.863, 0.858, 0.866, 0.875, 0.807, 0.792, 0.823, 0.779, 0.862, 0.854, 0.870, 0.875, 0.861, 0.838, 0.885, 0.854],\n",
        "    'knn-9': [0.757, 0.796, 0.796, 0.808, 0.860, 0.842, 0.876, 0.892, 0.866, 0.854, 0.872, 0.896, 0.806, 0.821, 0.818, 0.787, 0.861, 0.854, 0.877, 0.879, 0.873, 0.829, 0.886, 0.863],\n",
        "    'knn-10': [0.753, 0.787, 0.781, 0.804, 0.853, 0.838, 0.870, 0.879, 0.861, 0.850, 0.873, 0.892, 0.801, 0.808, 0.816, 0.792, 0.860, 0.863, 0.883, 0.854, 0.865, 0.833, 0.878, 0.863]\n",
        "})\n"
      ]
    },
    {
      "cell_type": "code",
      "execution_count": 35,
      "metadata": {
        "colab": {
          "base_uri": "https://localhost:8080/"
        },
        "id": "xAlLHYx3RB1d",
        "outputId": "b3b3143b-7a29-4c75-ac1a-f995ea874947"
      },
      "outputs": [
        {
          "name": "stdout",
          "output_type": "stream",
          "text": [
            "Teste de Friedman:\n",
            "p-valor: 0.0000\n",
            "qui-quadrado: 86.2577\n",
            "\n"
          ]
        }
      ],
      "source": [
        "# Teste de Friedman\n",
        "from scipy.stats import friedmanchisquare\n",
        "friedman_chi2, friedman_p_value = friedmanchisquare(*[data[col] for col in data.columns])\n",
        "print(\"Teste de Friedman:\")\n",
        "print(f\"p-valor: {friedman_p_value:.4f}\")\n",
        "print(f\"qui-quadrado: {friedman_chi2:.4f}\\n\")"
      ]
    },
    {
      "cell_type": "markdown",
      "metadata": {},
      "source": [
        "Como *p-valor* é 0, há diferença no desempenhos entre as configurações. Dessa forma, vamos identificar as melhores configurações com base na média da acurácia."
      ]
    },
    {
      "cell_type": "code",
      "execution_count": 36,
      "metadata": {},
      "outputs": [
        {
          "data": {
            "text/plain": [
              "knn-9     0.844542\n",
              "knn-7     0.843667\n",
              "knn-5     0.842333\n",
              "knn-10    0.839875\n",
              "knn-8     0.839125\n",
              "knn-6     0.834542\n",
              "knn-3     0.833917\n",
              "knn-4     0.832792\n",
              "knn-1     0.823542\n",
              "knn-2     0.812208\n",
              "dtype: float64"
            ]
          },
          "execution_count": 36,
          "metadata": {},
          "output_type": "execute_result"
        }
      ],
      "source": [
        "# ordenar knns com base na média\n",
        "mean = data.mean()\n",
        "mean = mean.sort_values(ascending=False)\n",
        "mean"
      ]
    },
    {
      "cell_type": "markdown",
      "metadata": {},
      "source": [
        "Os três melhores modelos são o knn-9, knn-7 e kkn-5. Agora vamos analisar o com o teste de Nemenyi se há uma diferença significativa no desempenho entre esses modelos."
      ]
    },
    {
      "cell_type": "code",
      "execution_count": 37,
      "metadata": {
        "colab": {
          "base_uri": "https://localhost:8080/"
        },
        "id": "m1qAcnNARDmH",
        "outputId": "f0c6d2d7-dbaf-4385-cd85-863dd34b51c5"
      },
      "outputs": [
        {
          "name": "stdout",
          "output_type": "stream",
          "text": [
            "Teste Nemenyi (pós-hoc):\n",
            "           knn-1         knn-2     knn-3     knn-4         knn-5     knn-6  \\\n",
            "knn-1   1.000000  5.632961e-01  0.580375  0.909857  1.385319e-03  0.631193   \n",
            "knn-2   0.563296  1.000000e+00  0.001870  0.016585  2.576215e-08  0.002509   \n",
            "knn-3   0.580375  1.869785e-03  1.000000  0.999910  5.120886e-01  1.000000   \n",
            "knn-4   0.909857  1.658484e-02  0.999910  1.000000  1.760639e-01  0.999971   \n",
            "knn-5   0.001385  2.576215e-08  0.512089  0.176064  1.000000e+00  0.461560   \n",
            "knn-6   0.631193  2.508982e-03  1.000000  0.999971  4.615596e-01  1.000000   \n",
            "knn-7   0.000064  2.992260e-10  0.140051  0.026867  9.996758e-01  0.116900   \n",
            "knn-8   0.033856  4.148376e-06  0.961599  0.712578  9.975806e-01  0.945717   \n",
            "knn-9   0.000072  3.534949e-10  0.148490  0.029042  9.997598e-01  0.124263   \n",
            "knn-10  0.096837  2.771663e-05  0.996337  0.901178  9.700986e-01  0.993526   \n",
            "\n",
            "               knn-7     knn-8         knn-9    knn-10  \n",
            "knn-1   6.429601e-05  0.033856  7.233761e-05  0.096837  \n",
            "knn-2   2.992260e-10  0.000004  3.534949e-10  0.000028  \n",
            "knn-3   1.400505e-01  0.961599  1.484900e-01  0.996337  \n",
            "knn-4   2.686748e-02  0.712578  2.904165e-02  0.901178  \n",
            "knn-5   9.996758e-01  0.997581  9.997598e-01  0.970099  \n",
            "knn-6   1.168999e-01  0.945717  1.242628e-01  0.993526  \n",
            "knn-7   1.000000e+00  0.882270  1.000000e+00  0.680711  \n",
            "knn-8   8.822701e-01  1.000000  8.919828e-01  0.999998  \n",
            "knn-9   1.000000e+00  0.891983  1.000000e+00  0.696779  \n",
            "knn-10  6.807106e-01  0.999998  6.967792e-01  1.000000  \n"
          ]
        }
      ],
      "source": [
        "# Teste Nemenyi pós-hoc\n",
        "from scikit_posthocs import posthoc_nemenyi_friedman\n",
        "# Teste Nemenyi pós-hoc\n",
        "nemenyi_results = posthoc_nemenyi_friedman(data)\n",
        "print(\"Teste Nemenyi (pós-hoc):\")\n",
        "print(nemenyi_results)"
      ]
    },
    {
      "cell_type": "code",
      "execution_count": 38,
      "metadata": {},
      "outputs": [
        {
          "data": {
            "text/plain": [
              "knn-2     0.158429\n",
              "knn-1     0.381693\n",
              "knn-7     0.484654\n",
              "knn-9     0.489039\n",
              "knn-4     0.577205\n",
              "knn-5     0.611821\n",
              "knn-6     0.627564\n",
              "knn-3     0.634072\n",
              "knn-10    0.733549\n",
              "knn-8     0.742559\n",
              "dtype: float64"
            ]
          },
          "execution_count": 38,
          "metadata": {},
          "output_type": "execute_result"
        }
      ],
      "source": [
        "# média dos p-valores por linha\n",
        "p_values = nemenyi_results.mean(axis=1).sort_values()\n",
        "p_values"
      ]
    },
    {
      "cell_type": "markdown",
      "metadata": {},
      "source": [
        "Entre os três modelos, o que apresenta maior diferença entre os modelos é o knn-7."
      ]
    },
    {
      "cell_type": "markdown",
      "metadata": {},
      "source": [
        "## Decision Tree"
      ]
    },
    {
      "cell_type": "code",
      "execution_count": 41,
      "metadata": {},
      "outputs": [],
      "source": [
        "data = pd.DataFrame({\n",
        "    'd=2': [0.650, 0.537, 0.696, 0.713, 0.750, 0.746, 0.785, 0.750, 0.793, 0.775, 0.772, 0.775, 0.723, 0.683, 0.732, 0.721, 0.763, 0.738, 0.821, 0.800, 0.811, 0.783, 0.768, 0.754],\n",
        "    'd=3': [0.664, 0.679, 0.707, 0.725, 0.807, 0.771, 0.801, 0.758, 0.828, 0.804, 0.783, 0.783, 0.759, 0.746, 0.739, 0.754, 0.787, 0.787, 0.843, 0.829, 0.802, 0.808, 0.784, 0.825],\n",
        "    'd=4': [0.697, 0.717, 0.742, 0.725, 0.801, 0.779, 0.818, 0.746, 0.828, 0.804, 0.810, 0.779, 0.764, 0.779, 0.752, 0.742, 0.826, 0.783, 0.832, 0.796, 0.836, 0.846, 0.821, 0.838],\n",
        "    'd=5': [0.691, 0.717, 0.728, 0.708, 0.791, 0.754, 0.807, 0.733, 0.838, 0.808, 0.795, 0.796, 0.776, 0.771, 0.774, 0.767, 0.832, 0.804, 0.837, 0.854, 0.851, 0.863, 0.819, 0.833],\n",
        "    'd=6': [0.696, 0.717, 0.724, 0.688, 0.772, 0.746, 0.811, 0.738, 0.848, 0.821, 0.803, 0.796, 0.776, 0.779, 0.777, 0.796, 0.827, 0.804, 0.836, 0.858, 0.833, 0.817, 0.840, 0.817],\n",
        "    'd=7': [0.697, 0.717, 0.723, 0.688, 0.772, 0.754, 0.793, 0.717, 0.836, 0.796, 0.810, 0.800, 0.764, 0.771, 0.782, 0.771, 0.833, 0.808, 0.821, 0.858, 0.817, 0.838, 0.847, 0.817],\n",
        "    'd=8': [0.688, 0.738, 0.727, 0.700, 0.783, 0.771, 0.788, 0.721, 0.832, 0.800, 0.807, 0.821, 0.763, 0.771, 0.774, 0.767, 0.826, 0.821, 0.820, 0.861, 0.838, 0.829, 0.842, 0.833],\n",
        "    'd=9': [0.705, 0.721, 0.733, 0.729, 0.781, 0.746, 0.807, 0.700, 0.825, 0.817, 0.813, 0.808, 0.761, 0.779, 0.751, 0.758, 0.843, 0.812, 0.821, 0.853, 0.838, 0.836, 0.846, 0.846],\n",
        "    'd=10': [0.705, 0.725, 0.707, 0.696, 0.772, 0.762, 0.802, 0.729, 0.838, 0.821, 0.796, 0.808, 0.758, 0.779, 0.761, 0.771, 0.835, 0.812, 0.822, 0.848, 0.829, 0.836, 0.829, 0.829]\n",
        "})"
      ]
    },
    {
      "cell_type": "code",
      "execution_count": 42,
      "metadata": {},
      "outputs": [
        {
          "name": "stdout",
          "output_type": "stream",
          "text": [
            "Teste de Friedman:\n",
            "p-valor: 0.0000\n",
            "qui-quadrado: 50.7585\n",
            "\n"
          ]
        }
      ],
      "source": [
        "from scipy.stats import friedmanchisquare\n",
        "friedman_chi2, friedman_p_value = friedmanchisquare(*[data[col] for col in data.columns])\n",
        "print(\"Teste de Friedman:\")\n",
        "print(f\"p-valor: {friedman_p_value:.4f}\")\n",
        "print(f\"qui-quadrado: {friedman_chi2:.4f}\\n\")"
      ]
    },
    {
      "cell_type": "markdown",
      "metadata": {},
      "source": [
        "Como *p-valor* é 0, há diferença no desempenhos entre as configurações. Dessa forma, vamos identificar as melhores configurações com base na média da acurácia."
      ]
    },
    {
      "cell_type": "code",
      "execution_count": 43,
      "metadata": {},
      "outputs": [
        {
          "data": {
            "text/plain": [
              "d=5     0.789458\n",
              "d=9     0.788708\n",
              "d=8     0.788375\n",
              "d=6     0.788333\n",
              "d=10    0.786250\n",
              "d=4     0.785875\n",
              "d=7     0.784583\n",
              "d=3     0.773875\n",
              "d=2     0.743292\n",
              "dtype: float64"
            ]
          },
          "execution_count": 43,
          "metadata": {},
          "output_type": "execute_result"
        }
      ],
      "source": [
        "mean = data.mean()\n",
        "mean = mean.sort_values(ascending=False)\n",
        "mean"
      ]
    },
    {
      "cell_type": "markdown",
      "metadata": {},
      "source": [
        "Os três melhores algoritmos são: d=5, d=9 e d=8. Veremos agora qual destes é o melhor com o teste Nemenyi pós-hoc."
      ]
    },
    {
      "cell_type": "code",
      "execution_count": 44,
      "metadata": {},
      "outputs": [
        {
          "name": "stdout",
          "output_type": "stream",
          "text": [
            "Teste Nemenyi (pós-hoc):\n",
            "           d=2       d=3       d=4       d=5       d=6       d=7       d=8  \\\n",
            "d=2   1.000000  0.142609  0.000017  0.000005  0.000022  0.000590  0.000057   \n",
            "d=3   0.142609  1.000000  0.330407  0.205423  0.362798  0.815420  0.485822   \n",
            "d=4   0.000017  0.330407  1.000000  1.000000  1.000000  0.998250  1.000000   \n",
            "d=5   0.000005  0.205423  1.000000  1.000000  0.999999  0.988126  0.999934   \n",
            "d=6   0.000022  0.362798  1.000000  0.999999  1.000000  0.998974  1.000000   \n",
            "d=7   0.000590  0.815420  0.998250  0.988126  0.998974  1.000000  0.999901   \n",
            "d=8   0.000057  0.485822  1.000000  0.999934  1.000000  0.999901  1.000000   \n",
            "d=9   0.000001  0.117173  0.999934  1.000000  0.999853  0.954110  0.998652   \n",
            "d=10  0.000038  0.431583  1.000000  0.999984  1.000000  0.999700  1.000000   \n",
            "\n",
            "           d=9      d=10  \n",
            "d=2   0.000001  0.000038  \n",
            "d=3   0.117173  0.431583  \n",
            "d=4   0.999934  1.000000  \n",
            "d=5   1.000000  0.999984  \n",
            "d=6   0.999853  1.000000  \n",
            "d=7   0.954110  0.999700  \n",
            "d=8   0.998652  1.000000  \n",
            "d=9   1.000000  0.999428  \n",
            "d=10  0.999428  1.000000  \n"
          ]
        }
      ],
      "source": [
        "# Teste Nemenyi pós-hoc\n",
        "nemenyi_results = posthoc_nemenyi_friedman(data)\n",
        "print(\"Teste Nemenyi (pós-hoc):\")\n",
        "print(nemenyi_results)"
      ]
    },
    {
      "cell_type": "code",
      "execution_count": 45,
      "metadata": {},
      "outputs": [
        {
          "data": {
            "text/plain": [
              "d=2     0.127038\n",
              "d=3     0.432359\n",
              "d=9     0.785461\n",
              "d=5     0.799274\n",
              "d=4     0.814290\n",
              "d=6     0.817961\n",
              "d=10    0.825637\n",
              "d=8     0.831596\n",
              "d=7     0.861674\n",
              "dtype: float64"
            ]
          },
          "execution_count": 45,
          "metadata": {},
          "output_type": "execute_result"
        }
      ],
      "source": [
        "# média dos p-valores por linha\n",
        "p_values = nemenyi_results.mean(axis=1).sort_values()\n",
        "p_values"
      ]
    },
    {
      "cell_type": "markdown",
      "metadata": {},
      "source": [
        "Desses três modelos, o que apresenta maior diferença de desempenho entre os demais modelos é o d=9."
      ]
    },
    {
      "cell_type": "markdown",
      "metadata": {},
      "source": [
        "## Naive Bayes"
      ]
    },
    {
      "cell_type": "code",
      "execution_count": 17,
      "metadata": {},
      "outputs": [],
      "source": [
        "data = pd.DataFrame({\n",
        "    'GaussianNB': [0.801, 0.762, 0.823, 0.800, 0.863, 0.838, 0.867, 0.812, 0.880, 0.871, 0.865, 0.829, 0.823, 0.833, 0.828, 0.842, 0.881, 0.883, 0.885, 0.858, 0.877, 0.858, 0.886, 0.879],\n",
        "    'MultinomialNB': [0.838, 0.850, 0.838, 0.829, 0.887, 0.896, 0.887, 0.892, 0.881, 0.900, 0.889, 0.900, 0.796, 0.825, 0.810, 0.842, 0.862, 0.871, 0.863, 0.867, 0.875, 0.867, 0.874, 0.858],\n",
        "    'ComplementNB': [0.815, 0.821, 0.807, 0.812, 0.861, 0.850, 0.851, 0.842, 0.871, 0.871, 0.865, 0.854, 0.822, 0.833, 0.817, 0.846, 0.895, 0.875, 0.866, 0.858, 0.873, 0.846, 0.863, 0.854]\n",
        "})"
      ]
    },
    {
      "cell_type": "code",
      "execution_count": 18,
      "metadata": {},
      "outputs": [
        {
          "name": "stdout",
          "output_type": "stream",
          "text": [
            "Teste de Friedman:\n",
            "p-valor: 0.0984\n",
            "qui-quadrado: 4.6374\n",
            "\n"
          ]
        }
      ],
      "source": [
        "friedman_chi2, friedman_p_value = friedmanchisquare(*[data[col] for col in data.columns])\n",
        "print(\"Teste de Friedman:\")\n",
        "print(f\"p-valor: {friedman_p_value:.4f}\")\n",
        "print(f\"qui-quadrado: {friedman_chi2:.4f}\\n\")"
      ]
    },
    {
      "cell_type": "code",
      "execution_count": 21,
      "metadata": {},
      "outputs": [
        {
          "name": "stdout",
          "output_type": "stream",
          "text": [
            "Teste Nemenyi (pós-hoc):\n",
            "               GaussianNB  MultinomialNB  ComplementNB\n",
            "GaussianNB       1.000000       0.480433      0.616072\n",
            "MultinomialNB    0.480433       1.000000      0.091279\n",
            "ComplementNB     0.616072       0.091279      1.000000\n"
          ]
        }
      ],
      "source": [
        "# Teste Nemenyi pós-hoc\n",
        "nemenyi_results = posthoc_nemenyi_friedman(data)\n",
        "print(\"Teste Nemenyi (pós-hoc):\")\n",
        "print(nemenyi_results)"
      ]
    },
    {
      "cell_type": "markdown",
      "metadata": {},
      "source": [
        "Como o *p-valor* é maior que 0.05, comprova-se a hipótese nula. Todos os três modelos possuem desempenho similar. É suficiente considerar a melhor modelo com base apenas na média."
      ]
    },
    {
      "cell_type": "code",
      "execution_count": null,
      "metadata": {},
      "outputs": [
        {
          "data": {
            "text/plain": [
              "MultinomialNB    0.862375\n",
              "ComplementNB     0.848667\n",
              "GaussianNB       0.847667\n",
              "dtype: float64"
            ]
          },
          "execution_count": 19,
          "metadata": {},
          "output_type": "execute_result"
        }
      ],
      "source": [
        "mean = data.mean()\n",
        "mean = mean.sort_values(ascending=False)\n",
        "mean"
      ]
    },
    {
      "cell_type": "markdown",
      "metadata": {},
      "source": [
        "Dessa forma, o melhor modelo para NB é o MultinomialNB."
      ]
    },
    {
      "cell_type": "markdown",
      "metadata": {},
      "source": [
        "## MLP"
      ]
    },
    {
      "cell_type": "code",
      "execution_count": 47,
      "metadata": {},
      "outputs": [],
      "source": [
        "data = pd.DataFrame({\n",
        "    \"Config. 1\": [0.858, 0.854, 0.861, 0.842, 0.910, 0.912, 0.909, 0.904, 0.916, 0.917, 0.917, 0.912, 0.850, 0.850, 0.855, 0.863, 0.907, 0.921, 0.907, 0.896, 0.917, 0.908, 0.914, 0.892],\n",
        "    \"Config. 2\": [0.863, 0.838, 0.862, 0.825, 0.914, 0.933, 0.912, 0.879, 0.915, 0.917, 0.920, 0.908, 0.861, 0.854, 0.857, 0.858, 0.911, 0.929, 0.917, 0.908, 0.920, 0.892, 0.924, 0.892],\n",
        "    \"Config. 3\": [0.871, 0.850, 0.862, 0.871, 0.921, 0.938, 0.910, 0.908, 0.931, 0.917, 0.924, 0.912, 0.846, 0.850, 0.855, 0.850, 0.906, 0.908, 0.910, 0.887, 0.915, 0.900, 0.919, 0.892],\n",
        "    \"Config. 4\": [0.862, 0.858, 0.865, 0.858, 0.915, 0.921, 0.916, 0.896, 0.929, 0.900, 0.921, 0.925, 0.858, 0.858, 0.858, 0.842, 0.911, 0.929, 0.914, 0.912, 0.922, 0.887, 0.920, 0.896],\n",
        "    \"Config. 5\": [0.851, 0.829, 0.841, 0.817, 0.890, 0.904, 0.887, 0.908, 0.902, 0.900, 0.907, 0.887, 0.847, 0.850, 0.858, 0.858, 0.902, 0.892, 0.899, 0.879, 0.905, 0.858, 0.907, 0.883],\n",
        "    \"Config. 6\": [0.867, 0.863, 0.858, 0.858, 0.915, 0.933, 0.905, 0.912, 0.927, 0.917, 0.924, 0.917, 0.835, 0.829, 0.858, 0.846, 0.911, 0.904, 0.912, 0.896, 0.914, 0.900, 0.912, 0.900],\n",
        "    \"Config. 7\": [0.861, 0.858, 0.858, 0.867, 0.926, 0.933, 0.911, 0.908, 0.927, 0.917, 0.920, 0.921, 0.848, 0.846, 0.852, 0.850, 0.914, 0.904, 0.906, 0.887, 0.914, 0.904, 0.915, 0.896],\n",
        "    \"Config. 8\": [0.868, 0.867, 0.862, 0.854, 0.920, 0.938, 0.909, 0.908, 0.924, 0.942, 0.925, 0.912, 0.840, 0.842, 0.846, 0.838, 0.900, 0.912, 0.904, 0.883, 0.914, 0.900, 0.911, 0.896],\n",
        "    \"Config. 9\": [0.880, 0.854, 0.863, 0.863, 0.915, 0.917, 0.912, 0.921, 0.922, 0.912, 0.921, 0.908, 0.848, 0.846, 0.847, 0.838, 0.910, 0.912, 0.909, 0.904, 0.912, 0.896, 0.911, 0.892],\n",
        "    \"Config. 10\": [0.866, 0.846, 0.868, 0.850, 0.916, 0.950, 0.914, 0.925, 0.931, 0.925, 0.912, 0.917, 0.817, 0.812, 0.828, 0.825, 0.895, 0.912, 0.891, 0.879, 0.902, 0.879, 0.905, 0.858]\n",
        "})"
      ]
    },
    {
      "cell_type": "code",
      "execution_count": 48,
      "metadata": {},
      "outputs": [
        {
          "name": "stdout",
          "output_type": "stream",
          "text": [
            "Teste de Friedman:\n",
            "p-valor: 0.0000\n",
            "qui-quadrado: 39.9119\n",
            "\n"
          ]
        }
      ],
      "source": [
        "friedman_chi2, friedman_p_value = friedmanchisquare(*[data[col] for col in data.columns])\n",
        "print(\"Teste de Friedman:\")\n",
        "print(f\"p-valor: {friedman_p_value:.4f}\")\n",
        "print(f\"qui-quadrado: {friedman_chi2:.4f}\\n\")"
      ]
    },
    {
      "cell_type": "markdown",
      "metadata": {},
      "source": [
        "Como *p-valor* é 0, há diferença no desempenhos entre as configurações. Dessa forma, vamos identificar as melhores configurações com base na média da acurácia."
      ]
    },
    {
      "cell_type": "code",
      "execution_count": 49,
      "metadata": {},
      "outputs": [
        {
          "data": {
            "text/plain": [
              "Config. 4     0.894708\n",
              "Config. 3     0.893875\n",
              "Config. 7     0.893458\n",
              "Config. 8     0.892292\n",
              "Config. 6     0.892208\n",
              "Config. 9     0.892208\n",
              "Config. 2     0.892042\n",
              "Config. 1     0.891333\n",
              "Config. 10    0.884292\n",
              "Config. 5     0.877542\n",
              "dtype: float64"
            ]
          },
          "execution_count": 49,
          "metadata": {},
          "output_type": "execute_result"
        }
      ],
      "source": [
        "mean = data.mean()\n",
        "mean = mean.sort_values(ascending=False)\n",
        "mean"
      ]
    },
    {
      "cell_type": "markdown",
      "metadata": {},
      "source": [
        "Os três melhores algoritmos são: Config. 12, Config. 6 e Config. 4. Veremos agora qual destes é o melhor com o teste Nemenyi pós-hoc."
      ]
    },
    {
      "cell_type": "code",
      "execution_count": 50,
      "metadata": {},
      "outputs": [
        {
          "name": "stdout",
          "output_type": "stream",
          "text": [
            "Teste Nemenyi (pós-hoc):\n",
            "            Config. 1  Config. 2  Config. 3  Config. 4  Config. 5  Config. 6  \\\n",
            "Config. 1    1.000000   0.993526   0.925683   0.428627   0.064985   0.996337   \n",
            "Config. 2    0.993526   1.000000   0.999992   0.961599   0.002064   1.000000   \n",
            "Config. 3    0.925683   0.999992   1.000000   0.998056   0.000317   0.999971   \n",
            "Config. 4    0.428627   0.961599   0.998056   1.000000   0.000005   0.945717   \n",
            "Config. 5    0.064985   0.002064   0.000317   0.000005   1.000000   0.002764   \n",
            "Config. 6    0.996337   1.000000   0.999971   0.945717   0.002764   1.000000   \n",
            "Config. 7    0.990830   1.000000   0.999997   0.970099   0.001693   1.000000   \n",
            "Config. 8    0.999999   0.999760   0.987302   0.664403   0.022944   0.999910   \n",
            "Config. 9    1.000000   0.999258   0.977105   0.597405   0.031368   0.999676   \n",
            "Config. 10   0.994610   0.647886   0.350345   0.045590   0.512089   0.696779   \n",
            "\n",
            "            Config. 7  Config. 8  Config. 9  Config. 10  \n",
            "Config. 1    0.990830   0.999999   1.000000    0.994610  \n",
            "Config. 2    1.000000   0.999760   0.999258    0.647886  \n",
            "Config. 3    0.999997   0.987302   0.977105    0.350345  \n",
            "Config. 4    0.970099   0.664403   0.597405    0.045590  \n",
            "Config. 5    0.001693   0.022944   0.031368    0.512089  \n",
            "Config. 6    1.000000   0.999910   0.999676    0.696779  \n",
            "Config. 7    1.000000   0.999568   0.998777    0.614355  \n",
            "Config. 8    0.999568   1.000000   1.000000    0.956741  \n",
            "Config. 9    0.998777   1.000000   1.000000    0.973778  \n",
            "Config. 10   0.614355   0.956741   0.973778    1.000000  \n"
          ]
        }
      ],
      "source": [
        "# Teste Nemenyi pós-hoc\n",
        "nemenyi_results = posthoc_nemenyi_friedman(data)\n",
        "print(\"Teste Nemenyi (pós-hoc):\")\n",
        "print(nemenyi_results)"
      ]
    },
    {
      "cell_type": "code",
      "execution_count": 51,
      "metadata": {},
      "outputs": [
        {
          "data": {
            "text/plain": [
              "Config. 5     0.163823\n",
              "Config. 4     0.661150\n",
              "Config. 10    0.679217\n",
              "Config. 3     0.823877\n",
              "Config. 1     0.839460\n",
              "Config. 7     0.857532\n",
              "Config. 9     0.857737\n",
              "Config. 2     0.860409\n",
              "Config. 8     0.863063\n",
              "Config. 6     0.864115\n",
              "dtype: float64"
            ]
          },
          "execution_count": 51,
          "metadata": {},
          "output_type": "execute_result"
        }
      ],
      "source": [
        "# média dos p-valores por linha\n",
        "p_values = nemenyi_results.mean(axis=1).sort_values()\n",
        "p_values"
      ]
    },
    {
      "cell_type": "markdown",
      "metadata": {},
      "source": [
        "Dentre os três modelos, o que apresenta maior diferença de desempenho entre os demais modelos é o Config. 4.\n"
      ]
    },
    {
      "cell_type": "markdown",
      "metadata": {},
      "source": [
        "## Todos os modelos"
      ]
    },
    {
      "cell_type": "code",
      "execution_count": 27,
      "metadata": {},
      "outputs": [],
      "source": [
        "import pandas as pd\n",
        "data = pd.DataFrame({\n",
        "    'knn-1': [0.758, 0.796, 0.767, 0.762, 0.845, 0.850, 0.827, 0.846, 0.850, 0.854, 0.825, 0.842, 0.773, 0.804, 0.768, 0.775, 0.842, 0.846, 0.857, 0.858, 0.838, 0.833, 0.870, 0.879],\n",
        "    'knn-2': [0.737, 0.775, 0.753, 0.738, 0.833, 0.817, 0.826, 0.833, 0.826, 0.817, 0.836, 0.833, 0.779, 0.779, 0.778, 0.771, 0.836, 0.804, 0.863, 0.867, 0.842, 0.833, 0.863, 0.854],\n",
        "    'knn-3': [0.765, 0.783, 0.771, 0.783, 0.852, 0.863, 0.826, 0.858, 0.860, 0.863, 0.860, 0.863, 0.797, 0.804, 0.801, 0.796, 0.850, 0.846, 0.858, 0.858, 0.867, 0.858, 0.886, 0.846],\n",
        "    'knn-4': [0.754, 0.796, 0.775, 0.775, 0.856, 0.829, 0.851, 0.867, 0.856, 0.838, 0.858, 0.842, 0.792, 0.800, 0.810, 0.808, 0.843, 0.854, 0.868, 0.875, 0.855, 0.842, 0.880, 0.863],\n",
        "    'knn-5': [0.768, 0.783, 0.764, 0.787, 0.857, 0.846, 0.855, 0.892, 0.856, 0.875, 0.875, 0.883, 0.802, 0.800, 0.826, 0.808, 0.867, 0.854, 0.878, 0.867, 0.868, 0.858, 0.880, 0.867],\n",
        "    'knn-6': [0.747, 0.767, 0.779, 0.796, 0.858, 0.854, 0.861, 0.883, 0.857, 0.850, 0.857, 0.854, 0.792, 0.779, 0.811, 0.792, 0.852, 0.850, 0.871, 0.871, 0.862, 0.842, 0.877, 0.867],\n",
        "    'knn-7': [0.759, 0.762, 0.774, 0.804, 0.867, 0.846, 0.877, 0.900, 0.865, 0.846, 0.876, 0.887, 0.808, 0.800, 0.822, 0.796, 0.876, 0.871, 0.871, 0.871, 0.871, 0.850, 0.882, 0.867],\n",
        "    'knn-8': [0.758, 0.783, 0.786, 0.792, 0.856, 0.842, 0.877, 0.883, 0.863, 0.858, 0.866, 0.875, 0.807, 0.792, 0.823, 0.779, 0.862, 0.854, 0.870, 0.875, 0.861, 0.838, 0.885, 0.854],\n",
        "    'knn-9': [0.757, 0.796, 0.796, 0.808, 0.860, 0.842, 0.876, 0.892, 0.866, 0.854, 0.872, 0.896, 0.806, 0.821, 0.818, 0.787, 0.861, 0.854, 0.877, 0.879, 0.873, 0.829, 0.886, 0.863],\n",
        "    'knn-10': [0.753, 0.787, 0.781, 0.804, 0.853, 0.838, 0.870, 0.879, 0.861, 0.850, 0.873, 0.892, 0.801, 0.808, 0.816, 0.792, 0.860, 0.863, 0.883, 0.854, 0.865, 0.833, 0.878, 0.863],\n",
        "    'd=2': [0.650, 0.537, 0.696, 0.713, 0.750, 0.746, 0.785, 0.750, 0.793, 0.775, 0.772, 0.775, 0.723, 0.683, 0.732, 0.721, 0.763, 0.738, 0.821, 0.800, 0.811, 0.783, 0.768, 0.754],\n",
        "    'd=3': [0.664, 0.679, 0.707, 0.725, 0.807, 0.771, 0.801, 0.758, 0.828, 0.804, 0.783, 0.783, 0.759, 0.746, 0.739, 0.754, 0.787, 0.787, 0.843, 0.829, 0.802, 0.808, 0.784, 0.825],\n",
        "    'd=4': [0.697, 0.717, 0.742, 0.725, 0.801, 0.779, 0.818, 0.746, 0.828, 0.804, 0.810, 0.779, 0.764, 0.779, 0.752, 0.742, 0.826, 0.783, 0.832, 0.796, 0.836, 0.846, 0.821, 0.838],\n",
        "    'd=5': [0.691, 0.717, 0.728, 0.708, 0.791, 0.754, 0.807, 0.733, 0.838, 0.808, 0.795, 0.796, 0.776, 0.771, 0.774, 0.767, 0.832, 0.804, 0.837, 0.854, 0.851, 0.863, 0.819, 0.833],\n",
        "    'd=6': [0.696, 0.717, 0.724, 0.688, 0.772, 0.746, 0.811, 0.738, 0.848, 0.821, 0.803, 0.796, 0.776, 0.779, 0.777, 0.796, 0.827, 0.804, 0.836, 0.858, 0.833, 0.817, 0.840, 0.817],\n",
        "    'd=7': [0.697, 0.717, 0.723, 0.688, 0.772, 0.754, 0.793, 0.717, 0.836, 0.796, 0.810, 0.800, 0.764, 0.771, 0.782, 0.771, 0.833, 0.808, 0.821, 0.858, 0.817, 0.838, 0.847, 0.817],\n",
        "    'd=8': [0.688, 0.738, 0.727, 0.700, 0.783, 0.771, 0.788, 0.721, 0.832, 0.800, 0.807, 0.821, 0.763, 0.771, 0.774, 0.767, 0.826, 0.821, 0.820, 0.861, 0.838, 0.829, 0.842, 0.833],\n",
        "    'd=9': [0.705, 0.721, 0.733, 0.729, 0.781, 0.746, 0.807, 0.700, 0.825, 0.817, 0.813, 0.808, 0.761, 0.779, 0.751, 0.758, 0.843, 0.812, 0.821, 0.853, 0.838, 0.836, 0.846, 0.846],\n",
        "    'd=10': [0.705, 0.725, 0.707, 0.696, 0.772, 0.762, 0.802, 0.729, 0.838, 0.821, 0.796, 0.808, 0.758, 0.779, 0.761, 0.771, 0.835, 0.812, 0.822, 0.848, 0.829, 0.836, 0.829, 0.829],\n",
        "    'GaussianNB': [0.801, 0.762, 0.823, 0.800, 0.863, 0.838, 0.867, 0.812, 0.880, 0.871, 0.865, 0.829, 0.823, 0.833, 0.828, 0.842, 0.881, 0.883, 0.885, 0.858, 0.877, 0.858, 0.886, 0.879],\n",
        "    'MultinomialNB': [0.838, 0.850, 0.838, 0.829, 0.887, 0.896, 0.887, 0.892, 0.881, 0.900, 0.889, 0.900, 0.796, 0.825, 0.810, 0.842, 0.862, 0.871, 0.863, 0.867, 0.875, 0.867, 0.874, 0.858],\n",
        "    'ComplementNB': [0.815, 0.821, 0.807, 0.812, 0.861, 0.850, 0.851, 0.842, 0.871, 0.871, 0.865, 0.854, 0.822, 0.833, 0.817, 0.846, 0.895, 0.875, 0.866, 0.858, 0.873, 0.846, 0.863, 0.854],\n",
        "    \"Config. 1\": [0.858, 0.854, 0.861, 0.842, 0.910, 0.912, 0.909, 0.904, 0.916, 0.917, 0.917, 0.912, 0.850, 0.850, 0.855, 0.863, 0.907, 0.921, 0.907, 0.896, 0.917, 0.908, 0.914, 0.892],\n",
        "    \"Config. 2\": [0.863, 0.838, 0.862, 0.825, 0.914, 0.933, 0.912, 0.879, 0.915, 0.917, 0.920, 0.908, 0.861, 0.854, 0.857, 0.858, 0.911, 0.929, 0.917, 0.908, 0.920, 0.892, 0.924, 0.892],\n",
        "    \"Config. 3\": [0.871, 0.850, 0.862, 0.871, 0.921, 0.938, 0.910, 0.908, 0.931, 0.917, 0.924, 0.912, 0.846, 0.850, 0.855, 0.850, 0.906, 0.908, 0.910, 0.887, 0.915, 0.900, 0.919, 0.892],\n",
        "    \"Config. 4\": [0.862, 0.858, 0.865, 0.858, 0.915, 0.921, 0.916, 0.896, 0.929, 0.900, 0.921, 0.925, 0.858, 0.858, 0.858, 0.842, 0.911, 0.929, 0.914, 0.912, 0.922, 0.887, 0.920, 0.896],\n",
        "    \"Config. 5\": [0.851, 0.829, 0.841, 0.817, 0.890, 0.904, 0.887, 0.908, 0.902, 0.900, 0.907, 0.887, 0.847, 0.850, 0.858, 0.858, 0.902, 0.892, 0.899, 0.879, 0.905, 0.858, 0.907, 0.883],\n",
        "    \"Config. 6\": [0.867, 0.863, 0.858, 0.858, 0.915, 0.933, 0.905, 0.912, 0.927, 0.917, 0.924, 0.917, 0.835, 0.829, 0.858, 0.846, 0.911, 0.904, 0.912, 0.896, 0.914, 0.900, 0.912, 0.900],\n",
        "    \"Config. 7\": [0.861, 0.858, 0.858, 0.867, 0.926, 0.933, 0.911, 0.908, 0.927, 0.917, 0.920, 0.921, 0.848, 0.846, 0.852, 0.850, 0.914, 0.904, 0.906, 0.887, 0.914, 0.904, 0.915, 0.896],\n",
        "    \"Config. 8\": [0.868, 0.867, 0.862, 0.854, 0.920, 0.938, 0.909, 0.908, 0.924, 0.942, 0.925, 0.912, 0.840, 0.842, 0.846, 0.838, 0.900, 0.912, 0.904, 0.883, 0.914, 0.900, 0.911, 0.896],\n",
        "    \"Config. 9\": [0.880, 0.854, 0.863, 0.863, 0.915, 0.917, 0.912, 0.921, 0.922, 0.912, 0.921, 0.908, 0.848, 0.846, 0.847, 0.838, 0.910, 0.912, 0.909, 0.904, 0.912, 0.896, 0.911, 0.892],\n",
        "    \"Config. 10\": [0.866, 0.846, 0.868, 0.850, 0.916, 0.950, 0.914, 0.925, 0.931, 0.925, 0.912, 0.917, 0.817, 0.812, 0.828, 0.825, 0.895, 0.912, 0.891, 0.879, 0.902, 0.879, 0.905, 0.858]\n",
        "})"
      ]
    },
    {
      "cell_type": "code",
      "execution_count": 28,
      "metadata": {},
      "outputs": [
        {
          "name": "stdout",
          "output_type": "stream",
          "text": [
            "Teste de Friedman:\n",
            "p-valor: 0.0000\n",
            "qui-quadrado: 659.4635\n",
            "\n"
          ]
        }
      ],
      "source": [
        "from scipy.stats import friedmanchisquare\n",
        "friedman_chi2, friedman_p_value = friedmanchisquare(*[data[col] for col in data.columns])\n",
        "print(\"Teste de Friedman:\")\n",
        "print(f\"p-valor: {friedman_p_value:.4f}\")\n",
        "print(f\"qui-quadrado: {friedman_chi2:.4f}\\n\")"
      ]
    },
    {
      "cell_type": "code",
      "execution_count": 29,
      "metadata": {},
      "outputs": [
        {
          "data": {
            "text/plain": [
              "Config. 4        0.894708\n",
              "Config. 3        0.893875\n",
              "Config. 7        0.893458\n",
              "Config. 8        0.892292\n",
              "Config. 6        0.892208\n",
              "Config. 9        0.892208\n",
              "Config. 2        0.892042\n",
              "Config. 1        0.891333\n",
              "Config. 10       0.884292\n",
              "Config. 5        0.877542\n",
              "MultinomialNB    0.862375\n",
              "ComplementNB     0.848667\n",
              "GaussianNB       0.847667\n",
              "knn-9            0.844542\n",
              "knn-7            0.843667\n",
              "knn-5            0.842333\n",
              "knn-10           0.839875\n",
              "knn-8            0.839125\n",
              "knn-6            0.834542\n",
              "knn-3            0.833917\n",
              "knn-4            0.832792\n",
              "knn-1            0.823542\n",
              "knn-2            0.812208\n",
              "d=5              0.789458\n",
              "d=9              0.788708\n",
              "d=8              0.788375\n",
              "d=6              0.788333\n",
              "d=10             0.786250\n",
              "d=4              0.785875\n",
              "d=7              0.784583\n",
              "d=3              0.773875\n",
              "d=2              0.743292\n",
              "dtype: float64"
            ]
          },
          "execution_count": 29,
          "metadata": {},
          "output_type": "execute_result"
        }
      ],
      "source": [
        "mean = data.mean()\n",
        "mean = mean.sort_values(ascending=False)\n",
        "mean"
      ]
    },
    {
      "cell_type": "code",
      "execution_count": 30,
      "metadata": {},
      "outputs": [
        {
          "name": "stdout",
          "output_type": "stream",
          "text": [
            "Teste Nemenyi (pós-hoc):\n",
            "                      knn-1         knn-2     knn-3     knn-4     knn-5  \\\n",
            "knn-1          1.000000e+00  1.000000e+00  1.000000  1.000000  0.995417   \n",
            "knn-2          1.000000e+00  1.000000e+00  0.997896  0.999518  0.648092   \n",
            "knn-3          1.000000e+00  9.978960e-01  1.000000  1.000000  1.000000   \n",
            "knn-4          1.000000e+00  9.995176e-01  1.000000  1.000000  1.000000   \n",
            "knn-5          9.954172e-01  6.480922e-01  1.000000  1.000000  1.000000   \n",
            "knn-6          1.000000e+00  9.965126e-01  1.000000  1.000000  1.000000   \n",
            "knn-7          9.687968e-01  4.309933e-01  0.999999  0.999988  1.000000   \n",
            "knn-8          9.999568e-01  9.100613e-01  1.000000  1.000000  1.000000   \n",
            "knn-9          9.854488e-01  5.259788e-01  1.000000  0.999998  1.000000   \n",
            "knn-10         9.999990e-01  9.729525e-01  1.000000  1.000000  1.000000   \n",
            "d=2            3.556968e-02  4.066311e-01  0.000825  0.001585  0.000005   \n",
            "d=3            3.596796e-01  9.471458e-01  0.026123  0.043037  0.000404   \n",
            "d=4            9.276393e-01  9.999785e-01  0.299756  0.400626  0.014940   \n",
            "d=5            9.789082e-01  9.999995e-01  0.462124  0.577724  0.033656   \n",
            "d=6            9.513581e-01  9.999939e-01  0.353997  0.462124  0.020128   \n",
            "d=7            8.458175e-01  9.997473e-01  0.195007  0.274526  0.007289   \n",
            "d=8            8.968780e-01  9.999328e-01  0.250637  0.342768  0.010995   \n",
            "d=9            9.673077e-01  9.999982e-01  0.406631  0.519530  0.026123   \n",
            "d=10           9.036179e-01  9.999460e-01  0.260029  0.353997  0.011698   \n",
            "GaussianNB     8.787238e-01  2.414658e-01  0.999917  0.999518  1.000000   \n",
            "MultinomialNB  5.066628e-01  5.460819e-02  0.985449  0.964167  1.000000   \n",
            "ComplementNB   9.687968e-01  4.309933e-01  0.999999  0.999988  1.000000   \n",
            "Config. 1      1.405295e-05  6.901778e-08  0.001424  0.000738  0.065359   \n",
            "Config. 2      4.848196e-06  2.022671e-08  0.000590  0.000297  0.034601   \n",
            "Config. 3      1.010521e-06  3.354367e-09  0.000158  0.000076  0.012830   \n",
            "Config. 4      2.510283e-07  6.867619e-10  0.000048  0.000023  0.005093   \n",
            "Config. 5      4.610734e-03  6.753104e-05  0.121910  0.079777  0.777418   \n",
            "Config. 6      3.223162e-06  1.265434e-08  0.000420  0.000209  0.026879   \n",
            "Config. 7      2.035936e-06  7.473058e-09  0.000286  0.000140  0.020128   \n",
            "Config. 8      9.895318e-06  4.601736e-08  0.001066  0.000547  0.053203   \n",
            "Config. 9      1.179819e-05  5.638279e-08  0.001233  0.000636  0.059015   \n",
            "Config. 10     3.742402e-04  3.223162e-06  0.019544  0.011341  0.348360   \n",
            "\n",
            "                  knn-6     knn-7     knn-8     knn-9    knn-10  ...  \\\n",
            "knn-1          1.000000  0.968797  0.999957  0.985449  0.999999  ...   \n",
            "knn-2          0.996513  0.430993  0.910061  0.525979  0.972952  ...   \n",
            "knn-3          1.000000  0.999999  1.000000  1.000000  1.000000  ...   \n",
            "knn-4          1.000000  0.999988  1.000000  0.999998  1.000000  ...   \n",
            "knn-5          1.000000  1.000000  1.000000  1.000000  1.000000  ...   \n",
            "knn-6          1.000000  1.000000  1.000000  1.000000  1.000000  ...   \n",
            "knn-7          1.000000  1.000000  1.000000  1.000000  1.000000  ...   \n",
            "knn-8          1.000000  1.000000  1.000000  1.000000  1.000000  ...   \n",
            "knn-9          1.000000  1.000000  1.000000  1.000000  1.000000  ...   \n",
            "knn-10         1.000000  1.000000  1.000000  1.000000  1.000000  ...   \n",
            "d=2            0.000636  0.000001  0.000051  0.000002  0.000165  ...   \n",
            "d=3            0.021341  0.000106  0.002775  0.000193  0.007289  ...   \n",
            "d=4            0.264807  0.005093  0.065359  0.008284  0.130394  ...   \n",
            "d=5            0.418746  0.012442  0.127516  0.019544  0.232516  ...   \n",
            "d=6            0.315516  0.007058  0.083767  0.011341  0.161991  ...   \n",
            "d=7            0.168945  0.002334  0.035570  0.003900  0.075945  ...   \n",
            "d=8            0.219510  0.003646  0.050485  0.006001  0.103802  ...   \n",
            "d=9            0.365406  0.009402  0.103802  0.014940  0.195007  ...   \n",
            "d=10           0.228125  0.003900  0.053203  0.006405  0.108741  ...   \n",
            "GaussianNB     0.999961  1.000000  1.000000  1.000000  1.000000  ...   \n",
            "MultinomialNB  0.990242  1.000000  0.999952  1.000000  0.999188  ...   \n",
            "ComplementNB   1.000000  1.000000  1.000000  1.000000  1.000000  ...   \n",
            "Config. 1      0.001826  0.145541  0.014940  0.103802  0.006001  ...   \n",
            "Config. 2      0.000766  0.083767  0.007058  0.057514  0.002681  ...   \n",
            "Config. 3      0.000209  0.034601  0.002254  0.022620  0.000795  ...   \n",
            "Config. 4      0.000065  0.014940  0.000795  0.009402  0.000264  ...   \n",
            "Config. 5      0.142409  0.919176  0.449591  0.866937  0.284460  ...   \n",
            "Config. 6      0.000547  0.067032  0.005264  0.045406  0.001960  ...   \n",
            "Config. 7      0.000374  0.051829  0.003771  0.034601  0.001374  ...   \n",
            "Config. 8      0.001374  0.121910  0.011698  0.085823  0.004611  ...   \n",
            "Config. 9      0.001585  0.133321  0.013229  0.094465  0.005264  ...   \n",
            "Config. 10     0.023968  0.558313  0.124689  0.462124  0.062119  ...   \n",
            "\n",
            "                  Config. 1     Config. 2     Config. 3     Config. 4  \\\n",
            "knn-1          1.405295e-05  4.848196e-06  1.010521e-06  2.510283e-07   \n",
            "knn-2          6.901778e-08  2.022671e-08  3.354367e-09  6.867619e-10   \n",
            "knn-3          1.423733e-03  5.901754e-04  1.582570e-04  4.845282e-05   \n",
            "knn-4          7.383482e-04  2.969068e-04  7.640267e-05  2.261462e-05   \n",
            "knn-5          6.535886e-02  3.460136e-02  1.282988e-02  5.092796e-03   \n",
            "knn-6          1.826306e-03  7.662447e-04  2.088493e-04  6.480055e-05   \n",
            "knn-7          1.455414e-01  8.376694e-02  3.460136e-02  1.493987e-02   \n",
            "knn-8          1.493987e-02  7.057897e-03  2.254335e-03  7.951389e-04   \n",
            "knn-9          1.038019e-01  5.751385e-02  2.262048e-02  9.402236e-03   \n",
            "knn-10         6.001340e-03  2.681203e-03  7.951389e-04  2.642138e-04   \n",
            "d=2            1.110223e-16  1.110223e-16  1.110223e-16  1.110223e-16   \n",
            "d=3            3.552714e-15  7.771561e-16  2.220446e-16  1.110223e-16   \n",
            "d=4            2.867373e-12  6.519230e-13  7.560619e-14  1.143530e-14   \n",
            "d=5            1.547540e-11  3.658407e-12  4.477529e-13  7.083223e-14   \n",
            "d=6            5.263123e-12  1.213363e-12  1.433298e-13  2.209344e-14   \n",
            "d=7            6.938894e-13  1.527667e-13  1.698641e-14  2.553513e-15   \n",
            "d=8            1.553091e-12  3.482770e-13  3.974598e-14  5.995204e-15   \n",
            "d=9            9.046430e-12  2.111866e-12  2.539080e-13  3.974598e-14   \n",
            "d=10           1.756595e-12  3.949063e-13  4.507505e-14  6.661338e-15   \n",
            "GaussianNB     2.895065e-01  1.835069e-01  8.582295e-02  4.077575e-02   \n",
            "MultinomialNB  6.914268e-01  5.388999e-01  3.317229e-01  1.950066e-01   \n",
            "ComplementNB   1.455414e-01  8.376694e-02  3.460136e-02  1.493987e-02   \n",
            "Config. 1      1.000000e+00  1.000000e+00  1.000000e+00  1.000000e+00   \n",
            "Config. 2      1.000000e+00  1.000000e+00  1.000000e+00  1.000000e+00   \n",
            "Config. 3      1.000000e+00  1.000000e+00  1.000000e+00  1.000000e+00   \n",
            "Config. 4      1.000000e+00  1.000000e+00  1.000000e+00  1.000000e+00   \n",
            "Config. 5      9.999997e-01  9.999909e-01  9.996324e-01  9.962623e-01   \n",
            "Config. 6      1.000000e+00  1.000000e+00  1.000000e+00  1.000000e+00   \n",
            "Config. 7      1.000000e+00  1.000000e+00  1.000000e+00  1.000000e+00   \n",
            "Config. 8      1.000000e+00  1.000000e+00  1.000000e+00  1.000000e+00   \n",
            "Config. 9      1.000000e+00  1.000000e+00  1.000000e+00  1.000000e+00   \n",
            "Config. 10     1.000000e+00  1.000000e+00  1.000000e+00  9.999964e-01   \n",
            "\n",
            "                  Config. 5     Config. 6     Config. 7     Config. 8  \\\n",
            "knn-1          4.610734e-03  3.223162e-06  2.035936e-06  9.895318e-06   \n",
            "knn-2          6.753104e-05  1.265434e-08  7.473058e-09  4.601736e-08   \n",
            "knn-3          1.219101e-01  4.197722e-04  2.856021e-04  1.066436e-03   \n",
            "knn-4          7.977662e-02  2.088493e-04  1.403778e-04  5.474076e-04   \n",
            "knn-5          7.774177e-01  2.687853e-02  2.012752e-02  5.320302e-02   \n",
            "knn-6          1.424091e-01  5.474076e-04  3.742402e-04  1.373574e-03   \n",
            "knn-7          9.191757e-01  6.703172e-02  5.182892e-02  1.219101e-01   \n",
            "knn-8          4.495905e-01  5.263606e-03  3.771226e-03  1.169786e-02   \n",
            "knn-9          8.669366e-01  4.540649e-02  3.460136e-02  8.582295e-02   \n",
            "knn-10         2.844601e-01  1.959676e-03  1.373574e-03  4.610734e-03   \n",
            "d=2            6.639134e-14  1.110223e-16  1.110223e-16  1.110223e-16   \n",
            "d=3            4.211831e-11  4.440892e-16  2.220446e-16  2.109424e-15   \n",
            "d=4            1.405017e-08  3.708145e-13  1.970646e-13  1.756595e-12   \n",
            "d=5            5.931146e-08  2.111866e-12  1.140532e-12  9.604872e-12   \n",
            "d=6            2.362441e-08  6.938894e-13  3.708145e-13  3.239298e-12   \n",
            "d=7            4.158537e-09  8.593126e-14  4.507505e-14  4.205525e-13   \n",
            "d=8            8.307120e-09  1.970646e-13  1.041389e-13  9.470202e-13   \n",
            "d=9            3.752207e-08  1.213363e-12  6.519230e-13  5.591194e-12   \n",
            "d=10           9.232104e-09  2.238210e-13  1.184608e-13  1.072031e-12   \n",
            "GaussianNB     9.828820e-01  1.519625e-01  1.219101e-01  2.506374e-01   \n",
            "MultinomialNB  9.998859e-01  4.810989e-01  4.187460e-01  6.417860e-01   \n",
            "ComplementNB   9.191757e-01  6.703172e-02  5.182892e-02  1.219101e-01   \n",
            "Config. 1      9.999997e-01  1.000000e+00  1.000000e+00  1.000000e+00   \n",
            "Config. 2      9.999909e-01  1.000000e+00  1.000000e+00  1.000000e+00   \n",
            "Config. 3      9.996324e-01  1.000000e+00  1.000000e+00  1.000000e+00   \n",
            "Config. 4      9.962623e-01  1.000000e+00  1.000000e+00  1.000000e+00   \n",
            "Config. 5      1.000000e+00  9.999727e-01  9.999167e-01  9.999990e-01   \n",
            "Config. 6      9.999727e-01  1.000000e+00  1.000000e+00  1.000000e+00   \n",
            "Config. 7      9.999167e-01  1.000000e+00  1.000000e+00  1.000000e+00   \n",
            "Config. 8      9.999990e-01  1.000000e+00  1.000000e+00  1.000000e+00   \n",
            "Config. 9      9.999995e-01  1.000000e+00  1.000000e+00  1.000000e+00   \n",
            "Config. 10     1.000000e+00  1.000000e+00  1.000000e+00  1.000000e+00   \n",
            "\n",
            "                  Config. 9    Config. 10  \n",
            "knn-1          1.179819e-05  3.742402e-04  \n",
            "knn-2          5.638279e-08  3.223162e-06  \n",
            "knn-3          1.232915e-03  1.954413e-02  \n",
            "knn-4          6.361065e-04  1.134127e-02  \n",
            "knn-5          5.901541e-02  3.483598e-01  \n",
            "knn-6          1.584775e-03  2.396767e-02  \n",
            "knn-7          1.333213e-01  5.583134e-01  \n",
            "knn-8          1.322883e-02  1.246886e-01  \n",
            "knn-9          9.446521e-02  4.621240e-01  \n",
            "knn-10         5.263606e-03  6.211862e-02  \n",
            "d=2            1.110223e-16  6.661338e-16  \n",
            "d=3            2.664535e-15  6.125100e-13  \n",
            "d=4            2.245315e-12  3.137891e-10  \n",
            "d=5            1.219747e-11  1.485935e-09  \n",
            "d=6            4.131029e-12  5.496965e-10  \n",
            "d=7            5.403455e-13  8.452761e-11  \n",
            "d=8            1.213363e-12  1.780806e-10  \n",
            "d=9            7.115308e-12  9.059195e-10  \n",
            "d=10           1.372791e-12  1.995371e-10  \n",
            "GaussianNB     2.696399e-01  7.720513e-01  \n",
            "MultinomialNB  6.668514e-01  9.789082e-01  \n",
            "ComplementNB   1.333213e-01  5.583134e-01  \n",
            "Config. 1      1.000000e+00  1.000000e+00  \n",
            "Config. 2      1.000000e+00  1.000000e+00  \n",
            "Config. 3      1.000000e+00  1.000000e+00  \n",
            "Config. 4      1.000000e+00  9.999964e-01  \n",
            "Config. 5      9.999995e-01  1.000000e+00  \n",
            "Config. 6      1.000000e+00  1.000000e+00  \n",
            "Config. 7      1.000000e+00  1.000000e+00  \n",
            "Config. 8      1.000000e+00  1.000000e+00  \n",
            "Config. 9      1.000000e+00  1.000000e+00  \n",
            "Config. 10     1.000000e+00  1.000000e+00  \n",
            "\n",
            "[32 rows x 32 columns]\n"
          ]
        }
      ],
      "source": [
        "from scikit_posthocs import posthoc_nemenyi_friedman\n",
        "# Teste Nemenyi pós-hoc\n",
        "nemenyi_results = posthoc_nemenyi_friedman(data)\n",
        "print(\"Teste Nemenyi (pós-hoc):\")\n",
        "print(nemenyi_results)"
      ]
    },
    {
      "cell_type": "code",
      "execution_count": 31,
      "metadata": {},
      "outputs": [
        {
          "data": {
            "text/plain": [
              "d=2              0.294921\n",
              "Config. 4        0.321175\n",
              "d=3              0.325257\n",
              "Config. 3        0.328916\n",
              "Config. 7        0.334528\n",
              "Config. 6        0.338993\n",
              "Config. 2        0.343545\n",
              "Config. 8        0.352955\n",
              "Config. 9        0.355580\n",
              "Config. 1        0.358316\n",
              "d=7              0.362878\n",
              "d=8              0.371540\n",
              "d=10             0.372956\n",
              "d=4              0.378849\n",
              "d=6              0.386739\n",
              "d=9              0.394334\n",
              "d=5              0.402376\n",
              "Config. 10       0.435003\n",
              "knn-8            0.439556\n",
              "knn-5            0.442863\n",
              "knn-10           0.448672\n",
              "knn-9            0.448898\n",
              "ComplementNB     0.455443\n",
              "knn-7            0.455443\n",
              "knn-6            0.473840\n",
              "GaussianNB       0.477559\n",
              "knn-3            0.480783\n",
              "knn-4            0.501027\n",
              "Config. 5        0.517002\n",
              "MultinomialNB    0.545180\n",
              "knn-2            0.548829\n",
              "knn-1            0.599238\n",
              "dtype: float64"
            ]
          },
          "execution_count": 31,
          "metadata": {},
          "output_type": "execute_result"
        }
      ],
      "source": [
        "# média dos p-valores por linha\n",
        "p_values = nemenyi_results.mean(axis=1).sort_values()\n",
        "p_values"
      ]
    },
    {
      "cell_type": "markdown",
      "metadata": {},
      "source": [
        "O que melhor alinha média de acurácia e diferença estatística é a Config. 14. Portanto, o melhor modelo é o MLP com Config. 14."
      ]
    },
    {
      "cell_type": "markdown",
      "metadata": {},
      "source": [
        "## Bagging"
      ]
    },
    {
      "cell_type": "code",
      "execution_count": 52,
      "metadata": {},
      "outputs": [],
      "source": [
        "import pandas as pd\n",
        "data = pd.DataFrame({\n",
        "    'Sem FS 10': [0.871, 0.896, 0.829, 0.879],\n",
        "    'Sem FS 20': [0.879, 0.900, 0.863, 0.871],\n",
        "    'Sem FS 30': [0.887, 0.896, 0.825, 0.879],\n",
        "    'FS 10': [0.863, 0.854, 0.825, 0.863],\n",
        "    'FS 20': [0.875, 0.892, 0.808, 0.879],\n",
        "    'FS 30': [0.875, 0.867, 0.817, 0.871]\n",
        "})\n"
      ]
    },
    {
      "cell_type": "code",
      "execution_count": 53,
      "metadata": {},
      "outputs": [
        {
          "name": "stdout",
          "output_type": "stream",
          "text": [
            "Teste de Friedman:\n",
            "p-valor: 0.0671\n",
            "qui-quadrado: 10.3030\n",
            "\n"
          ]
        }
      ],
      "source": [
        "from scipy.stats import friedmanchisquare\n",
        "friedman_chi2, friedman_p_value = friedmanchisquare(*[data[col] for col in data.columns])\n",
        "print(\"Teste de Friedman:\")\n",
        "print(f\"p-valor: {friedman_p_value:.4f}\")\n",
        "print(f\"qui-quadrado: {friedman_chi2:.4f}\\n\")"
      ]
    },
    {
      "cell_type": "code",
      "execution_count": 54,
      "metadata": {},
      "outputs": [
        {
          "data": {
            "text/plain": [
              "Sem FS 20    0.87825\n",
              "Sem FS 30    0.87175\n",
              "Sem FS 10    0.86875\n",
              "FS 20        0.86350\n",
              "FS 30        0.85750\n",
              "FS 10        0.85125\n",
              "dtype: float64"
            ]
          },
          "execution_count": 54,
          "metadata": {},
          "output_type": "execute_result"
        }
      ],
      "source": [
        "mean = data.mean()\n",
        "mean = mean.sort_values(ascending=False)\n",
        "mean"
      ]
    },
    {
      "cell_type": "markdown",
      "metadata": {},
      "source": [
        "## Boosting"
      ]
    },
    {
      "cell_type": "code",
      "execution_count": 55,
      "metadata": {},
      "outputs": [],
      "source": [
        "import pandas as pd\n",
        "data = pd.DataFrame({\n",
        "    '10': [0.879, 0.808],\n",
        "    '20': [0.854, 0.821],\n",
        "    '30': [0.863, 0.833]\n",
        "})"
      ]
    },
    {
      "cell_type": "code",
      "execution_count": 56,
      "metadata": {},
      "outputs": [
        {
          "name": "stdout",
          "output_type": "stream",
          "text": [
            "Teste de Friedman:\n",
            "p-valor: 0.6065\n",
            "qui-quadrado: 1.0000\n",
            "\n"
          ]
        }
      ],
      "source": [
        "from scipy.stats import friedmanchisquare\n",
        "friedman_chi2, friedman_p_value = friedmanchisquare(*[data[col] for col in data.columns])\n",
        "print(\"Teste de Friedman:\")\n",
        "print(f\"p-valor: {friedman_p_value:.4f}\")\n",
        "print(f\"qui-quadrado: {friedman_chi2:.4f}\\n\")"
      ]
    },
    {
      "cell_type": "code",
      "execution_count": 57,
      "metadata": {},
      "outputs": [
        {
          "data": {
            "text/plain": [
              "30    0.8480\n",
              "10    0.8435\n",
              "20    0.8375\n",
              "dtype: float64"
            ]
          },
          "execution_count": 57,
          "metadata": {},
          "output_type": "execute_result"
        }
      ],
      "source": [
        "mean = data.mean()\n",
        "mean = mean.sort_values(ascending=False)\n",
        "mean"
      ]
    },
    {
      "cell_type": "markdown",
      "metadata": {},
      "source": [
        "## Random Forest"
      ]
    },
    {
      "cell_type": "code",
      "execution_count": 58,
      "metadata": {},
      "outputs": [],
      "source": [
        "import pandas as pd\n",
        "data = pd.DataFrame({\n",
        "    '10': [0.875, 0.854, 0.892],\n",
        "    '20': [0.871, 0.883, 0.867],\n",
        "    '30': [0.887, 0.887, 0.883],\n",
        "    '100': [0.896, 0.883, 0.879]\n",
        "})"
      ]
    },
    {
      "cell_type": "code",
      "execution_count": 59,
      "metadata": {},
      "outputs": [
        {
          "name": "stdout",
          "output_type": "stream",
          "text": [
            "Teste de Friedman:\n",
            "p-valor: 0.3321\n",
            "qui-quadrado: 3.4138\n",
            "\n"
          ]
        }
      ],
      "source": [
        "from scipy.stats import friedmanchisquare\n",
        "friedman_chi2, friedman_p_value = friedmanchisquare(*[data[col] for col in data.columns])\n",
        "print(\"Teste de Friedman:\")\n",
        "print(f\"p-valor: {friedman_p_value:.4f}\")\n",
        "print(f\"qui-quadrado: {friedman_chi2:.4f}\\n\")"
      ]
    },
    {
      "cell_type": "code",
      "execution_count": 60,
      "metadata": {},
      "outputs": [
        {
          "data": {
            "text/plain": [
              "100    0.886000\n",
              "30     0.885667\n",
              "20     0.873667\n",
              "10     0.873667\n",
              "dtype: float64"
            ]
          },
          "execution_count": 60,
          "metadata": {},
          "output_type": "execute_result"
        }
      ],
      "source": [
        "mean = data.mean()\n",
        "mean = mean.sort_values(ascending=False)\n",
        "mean"
      ]
    },
    {
      "cell_type": "code",
      "execution_count": 61,
      "metadata": {},
      "outputs": [
        {
          "name": "stdout",
          "output_type": "stream",
          "text": [
            "Teste Nemenyi (pós-hoc):\n",
            "           10        20        30       100\n",
            "10   1.000000  0.858779  0.778483  0.964741\n",
            "20   0.858779  1.000000  0.303273  0.585369\n",
            "30   0.778483  0.303273  1.000000  0.964741\n",
            "100  0.964741  0.585369  0.964741  1.000000\n"
          ]
        }
      ],
      "source": [
        "from scikit_posthocs import posthoc_nemenyi_friedman\n",
        "# Teste Nemenyi pós-hoc\n",
        "nemenyi_results = posthoc_nemenyi_friedman(data)\n",
        "print(\"Teste Nemenyi (pós-hoc):\")\n",
        "print(nemenyi_results)"
      ]
    },
    {
      "cell_type": "code",
      "execution_count": 62,
      "metadata": {},
      "outputs": [
        {
          "data": {
            "text/plain": [
              "20     0.686855\n",
              "30     0.761624\n",
              "100    0.878713\n",
              "10     0.900501\n",
              "dtype: float64"
            ]
          },
          "execution_count": 62,
          "metadata": {},
          "output_type": "execute_result"
        }
      ],
      "source": [
        "# média dos p-valores por linha\n",
        "p_values = nemenyi_results.mean(axis=1).sort_values()\n",
        "p_values"
      ]
    }
  ],
  "metadata": {
    "colab": {
      "provenance": []
    },
    "kernelspec": {
      "display_name": "Python 3",
      "name": "python3"
    },
    "language_info": {
      "codemirror_mode": {
        "name": "ipython",
        "version": 3
      },
      "file_extension": ".py",
      "mimetype": "text/x-python",
      "name": "python",
      "nbconvert_exporter": "python",
      "pygments_lexer": "ipython3",
      "version": "3.10.12"
    }
  },
  "nbformat": 4,
  "nbformat_minor": 0
}
