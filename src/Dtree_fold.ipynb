{
 "cells": [
  {
   "cell_type": "code",
   "execution_count": 1,
   "metadata": {},
   "outputs": [],
   "source": [
    "import os\n",
    "import pandas as pd\n",
    "import numpy as np\n",
    "\n",
    "def load_dataframes(dir = \"datasets/bests/\"):\n",
    "    datasets = os.listdir(dir)\n",
    "    datasets = [d for d in datasets if d.endswith(\".csv\")]\n",
    "\n",
    "    dfs = []\n",
    "    for dataset in datasets:\n",
    "        df = pd.read_csv(dir + dataset, encoding=\"utf-8\")\n",
    "        df.head()\n",
    "        dfs.append({\"file\": dataset, \"dataframe\": df})\n",
    "\n",
    "    return dfs"
   ]
  },
  {
   "cell_type": "code",
   "execution_count": 2,
   "metadata": {},
   "outputs": [
    {
     "name": "stdout",
     "output_type": "stream",
     "text": [
      "PCA_10_CNN_16_256_MAX\n",
      "      2      3      4      5      6      7      8      9      10\n",
      "0  0,821  0,843  0,832  0,837  0,836  0,821  0,820  0,821  0,822\n",
      "PCA_10_CNN_16_128_AVG\n",
      "      2      3      4      5      6      7      8      9      10\n",
      "0  0,723  0,759  0,764  0,776  0,776  0,764  0,763  0,761  0,758\n",
      "CNN_16_128_AVG\n",
      "      2      3      4      5      6      7      8      9      10\n",
      "0  0,650  0,664  0,697  0,691  0,696  0,697  0,688  0,705  0,705\n",
      "CNN_19_256_AVG\n",
      "      2      3      4      5      6      7      8      9      10\n",
      "0  0,793  0,828  0,828  0,838  0,848  0,836  0,832  0,825  0,838\n",
      "CNN_16_128_MAX\n",
      "      2      3      4      5      6      7      8      9      10\n",
      "0  0,696  0,707  0,742  0,728  0,724  0,723  0,727  0,733  0,707\n",
      "PCA_10_CNN_16_256_AVG\n",
      "      2      3      4      5      6      7      8      9      10\n",
      "0  0,763  0,787  0,826  0,832  0,827  0,833  0,826  0,843  0,835\n",
      "CNN_16_256_MAX\n",
      "      2      3      4      5      6      7      8      9      10\n",
      "0  0,785  0,801  0,818  0,807  0,811  0,793  0,788  0,807  0,802\n",
      "CNN_19_256_MAX\n",
      "      2      3      4      5      6      7      8      9      10\n",
      "0  0,772  0,783  0,810  0,795  0,803  0,810  0,807  0,813  0,796\n",
      "PCA_10_CNN_19_256_AVG\n",
      "      2      3      4      5      6      7      8      9      10\n",
      "0  0,811  0,802  0,836  0,851  0,858  0,858  0,861  0,853  0,848\n",
      "PCA_10_CNN_16_128_MAX\n",
      "      2      3      4      5      6      7      8      9      10\n",
      "0  0,732  0,739  0,752  0,774  0,777  0,782  0,774  0,751  0,761\n",
      "PCA_10_CNN_19_256_MAX\n",
      "      2      3      4      5      6      7      8      9      10\n",
      "0  0,768  0,784  0,821  0,819  0,840  0,847  0,842  0,836  0,836\n",
      "CNN_16_256_AVG\n",
      "      2      3      4      5      6      7      8      9      10\n",
      "0  0,750  0,807  0,801  0,791  0,772  0,772  0,783  0,781  0,772\n"
     ]
    }
   ],
   "source": [
    "from sklearn.tree import DecisionTreeClassifier\n",
    "from sklearn.model_selection import KFold\n",
    "from sklearn.model_selection import cross_val_score\n",
    "from numpy import mean\n",
    "from sklearn.preprocessing import StandardScaler\n",
    "\n",
    "dfs = load_dataframes()\n",
    "\n",
    "# 10-fold CV\n",
    "kf = KFold(n_splits=10, random_state=42, shuffle=True)\n",
    "\n",
    "for df in dfs:\n",
    "    dataset_name = df[\"file\"].replace('.csv', '')\n",
    "    print(dataset_name)\n",
    "    df = df[\"dataframe\"]\n",
    "    df_without_class = df.drop([\"classe\"], axis=1)\n",
    "    X = df_without_class\n",
    "    y = df.classe\n",
    "    \n",
    "    # Standardize the features\n",
    "    scaler = StandardScaler()\n",
    "    X = scaler.fit_transform(X)\n",
    "\n",
    "    results = []\n",
    "    for i in range(2, 11):\n",
    "        dtc = DecisionTreeClassifier(criterion=\"entropy\", max_depth=i)\n",
    "        scores = cross_val_score(dtc, X, y, scoring='accuracy', cv=kf)\n",
    "        results.append('{:.3f}'.format(mean(scores)).replace('.', ','))\n",
    "            \n",
    "    results_df = pd.DataFrame([results], columns=range(2, 11))\n",
    "    results_df.to_csv(f'results/DTree_fold_{dataset_name}.csv', index=False)\n",
    "    print(results_df)"
   ]
  }
 ],
 "metadata": {
  "kernelspec": {
   "display_name": "Python 3",
   "language": "python",
   "name": "python3"
  },
  "language_info": {
   "codemirror_mode": {
    "name": "ipython",
    "version": 3
   },
   "file_extension": ".py",
   "mimetype": "text/x-python",
   "name": "python",
   "nbconvert_exporter": "python",
   "pygments_lexer": "ipython3",
   "version": "3.10.12"
  }
 },
 "nbformat": 4,
 "nbformat_minor": 2
}
