{
 "cells": [
  {
   "cell_type": "code",
   "execution_count": 7,
   "metadata": {},
   "outputs": [],
   "source": [
    "import os\n",
    "import pandas as pd\n",
    "\n",
    "\n",
    "def load_dataframes(dir=\"datasets/bests/\"):\n",
    "    datasets = os.listdir(dir)\n",
    "    datasets = [d for d in datasets if d.endswith(\".csv\")]\n",
    "\n",
    "    dfs = []\n",
    "    for dataset in datasets:\n",
    "        df = pd.read_csv(dir + dataset, encoding=\"utf-8\")\n",
    "        dfs.append({\"file\": dataset, \"dataframe\": df})\n",
    "\n",
    "    return dfs"
   ]
  },
  {
   "cell_type": "code",
   "execution_count": 8,
   "metadata": {},
   "outputs": [
    {
     "name": "stdout",
     "output_type": "stream",
     "text": [
      "PCA_10_CNN_16_256_MAX\n",
      "  GaussianNB MultinomialNB ComplementNB\n",
      "0      0,885         0,863        0,866\n",
      "PCA_10_CNN_16_128_AVG\n",
      "  GaussianNB MultinomialNB ComplementNB\n",
      "0      0,823         0,796        0,822\n",
      "CNN_16_128_AVG\n",
      "  GaussianNB MultinomialNB ComplementNB\n",
      "0      0,801         0,838        0,815\n",
      "CNN_19_256_AVG\n",
      "  GaussianNB MultinomialNB ComplementNB\n",
      "0      0,880         0,881        0,871\n",
      "CNN_16_128_MAX\n",
      "  GaussianNB MultinomialNB ComplementNB\n",
      "0      0,823         0,838        0,807\n",
      "PCA_10_CNN_16_256_AVG\n",
      "  GaussianNB MultinomialNB ComplementNB\n",
      "0      0,881         0,862        0,895\n",
      "CNN_16_256_MAX\n",
      "  GaussianNB MultinomialNB ComplementNB\n",
      "0      0,867         0,887        0,851\n",
      "CNN_19_256_MAX\n",
      "  GaussianNB MultinomialNB ComplementNB\n",
      "0      0,865         0,889        0,865\n",
      "PCA_10_CNN_19_256_AVG\n",
      "  GaussianNB MultinomialNB ComplementNB\n",
      "0      0,877         0,875        0,873\n",
      "PCA_10_CNN_16_128_MAX\n",
      "  GaussianNB MultinomialNB ComplementNB\n",
      "0      0,828         0,810        0,817\n",
      "PCA_10_CNN_19_256_MAX\n",
      "  GaussianNB MultinomialNB ComplementNB\n",
      "0      0,886         0,874        0,863\n",
      "CNN_16_256_AVG\n",
      "  GaussianNB MultinomialNB ComplementNB\n",
      "0      0,863         0,887        0,861\n"
     ]
    }
   ],
   "source": [
    "from sklearn.model_selection import KFold\n",
    "from sklearn.model_selection import cross_val_score\n",
    "from sklearn.preprocessing import MinMaxScaler\n",
    "from sklearn.naive_bayes import GaussianNB, MultinomialNB, ComplementNB\n",
    "\n",
    "dfs = load_dataframes()\n",
    "\n",
    "# 10-fold CV\n",
    "kf = KFold(n_splits=10, random_state=42, shuffle=True)\n",
    "\n",
    "for df in dfs:\n",
    "    dataset_name = df[\"file\"].replace('.csv', '')\n",
    "    print(dataset_name)\n",
    "    df = df[\"dataframe\"]\n",
    "    df_without_class = df.drop([\"classe\"], axis=1)\n",
    "    X = df_without_class\n",
    "    y = df.classe\n",
    "    \n",
    "    X = MinMaxScaler().fit_transform(X)\n",
    "            \n",
    "    gnb = GaussianNB(priors = None, var_smoothing=1e-09)\n",
    "    scores = cross_val_score(gnb, X, y, scoring='accuracy', cv=kf)\n",
    "    acc_gnb = scores.mean()\n",
    "    \n",
    "    mnb = MultinomialNB(fit_prior=True, alpha=1.0)\n",
    "    scores = cross_val_score(mnb, X, y, scoring='accuracy', cv=kf)\n",
    "    acc_mnb = scores.mean()\n",
    "    \n",
    "    cnb = ComplementNB(alpha=1.0, force_alpha=True, fit_prior=True)\n",
    "    scores = cross_val_score(cnb, X, y, scoring='accuracy', cv=kf)\n",
    "    acc_cnb = scores.mean()\n",
    "    \n",
    "    row = {\"GaussianNB\": f\"{acc_gnb:.3f}\".replace('.', ','),\n",
    "     \"MultinomialNB\": f\"{acc_mnb:.3f}\".replace('.', ','), \"ComplementNB\": f\"{acc_cnb:.3f}\".replace('.', ',')}\n",
    "    \n",
    "    results_df = pd.DataFrame(row, index=[0])\n",
    "    results_df.to_csv(f'results/NB_fold_{dataset_name}.csv', index=False)\n",
    "    print(results_df)"
   ]
  }
 ],
 "metadata": {
  "kernelspec": {
   "display_name": "Python 3",
   "language": "python",
   "name": "python3"
  },
  "language_info": {
   "codemirror_mode": {
    "name": "ipython",
    "version": 3
   },
   "file_extension": ".py",
   "mimetype": "text/x-python",
   "name": "python",
   "nbconvert_exporter": "python",
   "pygments_lexer": "ipython3",
   "version": "3.10.12"
  }
 },
 "nbformat": 4,
 "nbformat_minor": 2
}
