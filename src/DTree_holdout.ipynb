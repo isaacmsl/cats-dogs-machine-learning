{
 "cells": [
  {
   "cell_type": "code",
   "execution_count": 17,
   "metadata": {},
   "outputs": [],
   "source": [
    "import os\n",
    "import pandas as pd\n",
    "\n",
    "def load_dataframes(dir = \"datasets/bests/\"):\n",
    "    datasets = os.listdir(dir)\n",
    "    datasets = [d for d in datasets if d.endswith(\".csv\")]\n",
    "\n",
    "    dfs = []\n",
    "    for dataset in datasets:\n",
    "        df = pd.read_csv(dir + dataset, encoding=\"utf-8\")\n",
    "        df.head()\n",
    "        dfs.append({\"file\": dataset, \"dataframe\": df})\n",
    "\n",
    "    return dfs"
   ]
  },
  {
   "cell_type": "code",
   "execution_count": 18,
   "metadata": {},
   "outputs": [
    {
     "name": "stdout",
     "output_type": "stream",
     "text": [
      "PCA_10_CNN_16_256_MAX\n",
      "      2      3      4      5      6      7      8      9      10\n",
      "0  0,800  0,829  0,796  0,854  0,829  0,829  0,829  0,829  0,833\n",
      "PCA_10_CNN_16_128_AVG\n",
      "      2      3      4      5      6      7      8      9      10\n",
      "0  0,683  0,746  0,779  0,771  0,779  0,771  0,771  0,779  0,779\n",
      "CNN_16_128_AVG\n",
      "      2      3      4      5      6      7      8      9      10\n",
      "0  0,537  0,679  0,717  0,717  0,717  0,717  0,738  0,721  0,725\n",
      "CNN_19_256_AVG\n",
      "      2      3      4      5      6      7      8      9      10\n",
      "0  0,775  0,804  0,804  0,808  0,821  0,796  0,800  0,817  0,821\n",
      "CNN_16_128_MAX\n",
      "      2      3      4      5      6      7      8      9      10\n",
      "0  0,713  0,725  0,725  0,708  0,688  0,688  0,700  0,729  0,696\n",
      "PCA_10_CNN_16_256_AVG\n",
      "      2      3      4      5      6      7      8      9      10\n",
      "0  0,738  0,787  0,783  0,804  0,804  0,808  0,821  0,812  0,812\n",
      "CNN_16_256_MAX\n",
      "      2      3      4      5      6      7      8      9      10\n",
      "0  0,750  0,758  0,746  0,733  0,738  0,717  0,721  0,700  0,729\n",
      "CNN_19_256_MAX\n",
      "      2      3      4      5      6      7      8      9      10\n",
      "0  0,775  0,783  0,779  0,796  0,796  0,800  0,821  0,808  0,808\n",
      "PCA_10_CNN_19_256_AVG\n",
      "      2      3      4      5      6      7      8      9      10\n",
      "0  0,783  0,808  0,846  0,863  0,833  0,817  0,838  0,838  0,829\n",
      "PCA_10_CNN_16_128_MAX\n",
      "      2      3      4      5      6      7      8      9      10\n",
      "0  0,721  0,754  0,742  0,767  0,796  0,771  0,767  0,758  0,771\n",
      "PCA_10_CNN_19_256_MAX\n",
      "      2      3      4      5      6      7      8      9      10\n",
      "0  0,754  0,825  0,838  0,833  0,817  0,817  0,833  0,846  0,829\n",
      "CNN_16_256_AVG\n",
      "      2      3      4      5      6      7      8      9      10\n",
      "0  0,746  0,771  0,779  0,754  0,746  0,754  0,771  0,746  0,762\n"
     ]
    }
   ],
   "source": [
    "from sklearn.tree import DecisionTreeClassifier\n",
    "from sklearn.model_selection import train_test_split\n",
    "from sklearn import metrics\n",
    "from sklearn.preprocessing import StandardScaler\n",
    "\n",
    "dfs = load_dataframes()\n",
    "\n",
    "for df in dfs:\n",
    "    dataset_name = df[\"file\"].replace('.csv', '')\n",
    "    print(dataset_name)\n",
    "    df = df[\"dataframe\"]\n",
    "    df_without_class = df.drop([\"classe\"], axis=1)\n",
    "    X = df_without_class\n",
    "    y = df.classe\n",
    "    \n",
    "    # Standardize the features\n",
    "    scaler = StandardScaler()\n",
    "    X = scaler.fit_transform(X)\n",
    "    \n",
    "    X_train_70, X_test_30, y_train_70, y_test_30 = train_test_split(X, y, test_size=0.3, random_state=42)\n",
    "    \n",
    "    results = []\n",
    "    for i in range(2, 11):\n",
    "        dtc = DecisionTreeClassifier(criterion=\"entropy\", max_depth=i)\n",
    "\n",
    "        # Train Decision Tree Classifier\n",
    "        dtc = dtc.fit(X_train_70, y_train_70)\n",
    "\n",
    "        # Predict the response for test dataset\n",
    "        y_pred = dtc.predict(X_test_30)\n",
    "\n",
    "        acuracia = metrics.accuracy_score(y_test_30, y_pred)\n",
    "        results.append('{:.3f}'.format(acuracia).replace('.', ','))\n",
    "            \n",
    "    results_df = pd.DataFrame([results], columns=range(2, 11))\n",
    "    results_df.to_csv(f'results/DTree_holdout_{dataset_name}.csv', index=False)\n",
    "    print(results_df)"
   ]
  }
 ],
 "metadata": {
  "colab": {
   "provenance": []
  },
  "kernelspec": {
   "display_name": "Python 3",
   "name": "python3"
  },
  "language_info": {
   "codemirror_mode": {
    "name": "ipython",
    "version": 3
   },
   "file_extension": ".py",
   "mimetype": "text/x-python",
   "name": "python",
   "nbconvert_exporter": "python",
   "pygments_lexer": "ipython3",
   "version": "3.10.12"
  }
 },
 "nbformat": 4,
 "nbformat_minor": 0
}
