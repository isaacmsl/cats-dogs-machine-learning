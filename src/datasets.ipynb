{
 "cells": [
  {
   "cell_type": "code",
   "execution_count": 3,
   "metadata": {},
   "outputs": [
    {
     "name": "stdout",
     "output_type": "stream",
     "text": [
      "CNN_16_128_AVG.csv: 513 colunas\n",
      "HOG_256_20.csv: 4357 colunas\n",
      "CNN_19_256_AVG.csv: 513 colunas\n",
      "CNN_16_128_MAX.csv: 513 colunas\n",
      "HOG_128_20.csv: 901 colunas\n",
      "CNN_16_256_MAX.csv: 513 colunas\n",
      "CNN_19_256_MAX.csv: 513 colunas\n",
      "HOG_128_16.csv: 1765 colunas\n",
      "CNN_19_128_AVG.csv: 513 colunas\n",
      "CNN_19_128_MAX.csv: 513 colunas\n",
      "HOG_256_16.csv: 8101 colunas\n",
      "CNN_16_256_AVG.csv: 513 colunas\n"
     ]
    }
   ],
   "source": [
    "# le o datasets e para cada um dos dataset imprime nome e quantidade de colunas da tabela\n",
    "\n",
    "import pandas as pd\n",
    "import os\n",
    "\n",
    "# lê datasets do diretório datasets\n",
    "datasets = os.listdir('datasets')\n",
    "\n",
    "for dataset in datasets:\n",
    "    if dataset.endswith('.csv'):\n",
    "        df = pd.read_csv(f'datasets/{dataset}')\n",
    "        print(f'{dataset}: {len(df.columns)} colunas')\n",
    "    "
   ]
  }
 ],
 "metadata": {
  "kernelspec": {
   "display_name": "Python 3",
   "language": "python",
   "name": "python3"
  },
  "language_info": {
   "codemirror_mode": {
    "name": "ipython",
    "version": 3
   },
   "file_extension": ".py",
   "mimetype": "text/x-python",
   "name": "python",
   "nbconvert_exporter": "python",
   "pygments_lexer": "ipython3",
   "version": "3.10.12"
  }
 },
 "nbformat": 4,
 "nbformat_minor": 2
}
