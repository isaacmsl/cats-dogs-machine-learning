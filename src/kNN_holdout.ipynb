{
 "cells": [
  {
   "cell_type": "code",
   "execution_count": 36,
   "metadata": {},
   "outputs": [],
   "source": [
    "\n",
    "import os\n",
    "import pandas as pd\n",
    "from sklearn.preprocessing import StandardScaler\n",
    "from sklearn.model_selection import train_test_split\n",
    "\n",
    "def load_dataframes(dir=\"datasets/bests/\"):\n",
    "    datasets = os.listdir(dir)\n",
    "    datasets = sorted([d for d in datasets if d.endswith(\".csv\") and d.startswith(\"PCA\")])\n",
    "\n",
    "    dfs = []\n",
    "    for dataset in datasets:\n",
    "        df = pd.read_csv(dir + dataset, encoding=\"utf-8\")\n",
    "        df.head()\n",
    "        dfs.append({\"file\": dataset, \"dataframe\": df})\n",
    "\n",
    "    return dfs\n",
    "\n",
    "\n",
    "def split_data_from_dataframe(df):\n",
    "    df = df[\"dataframe\"]\n",
    "    df_without_class = df.drop([\"classe\"], axis=1)\n",
    "    X = df_without_class\n",
    "    y = df.classe\n",
    "    \n",
    "    # Standardize the features\n",
    "    scaler = StandardScaler()\n",
    "    X = scaler.fit_transform(X)\n",
    "    return X, y\n",
    "\n",
    "\n",
    "def split_data_to_train_and_test(X, y):\n",
    "    X_train, X_test, y_train, y_test = train_test_split(\n",
    "        X, y, test_size=0.3, random_state=42\n",
    "    )\n",
    "    \n",
    "    return X_train, X_test, y_train, y_test"
   ]
  },
  {
   "cell_type": "code",
   "execution_count": 37,
   "metadata": {},
   "outputs": [
    {
     "name": "stdout",
     "output_type": "stream",
     "text": [
      "PCA_10_CNN_16_128_AVG\n",
      "      1      2      3      4      5      6      7      8      9      10\n",
      "0  0,804  0,779  0,804  0,800  0,800  0,779  0,800  0,792  0,821  0,808\n",
      "PCA_10_CNN_16_128_MAX\n",
      "      1      2      3      4      5      6      7      8      9      10\n",
      "0  0,775  0,771  0,796  0,808  0,808  0,792  0,796  0,779  0,787  0,792\n",
      "PCA_10_CNN_16_256_AVG\n",
      "      1      2      3      4      5      6      7      8      9      10\n",
      "0  0,846  0,804  0,846  0,854  0,854  0,850  0,871  0,854  0,854  0,863\n",
      "PCA_10_CNN_16_256_MAX\n",
      "      1      2      3      4      5      6      7      8      9      10\n",
      "0  0,858  0,867  0,858  0,875  0,867  0,871  0,871  0,875  0,879  0,854\n",
      "PCA_10_CNN_19_256_AVG\n",
      "      1      2      3      4      5      6      7      8      9      10\n",
      "0  0,833  0,833  0,858  0,842  0,858  0,842  0,850  0,838  0,829  0,833\n",
      "PCA_10_CNN_19_256_MAX\n",
      "      1      2      3      4      5      6      7      8      9      10\n",
      "0  0,879  0,854  0,846  0,863  0,867  0,867  0,867  0,854  0,863  0,863\n"
     ]
    }
   ],
   "source": [
    "\n",
    "from sklearn.neighbors import KNeighborsClassifier\n",
    "from sklearn import metrics\n",
    "\n",
    "dfs = load_dataframes()\n",
    "\n",
    "for df in dfs:\n",
    "    dataset_name = df[\"file\"].replace('.csv', '')\n",
    "    print(dataset_name)\n",
    "    X, y = split_data_from_dataframe(df)\n",
    "    X_train_70, X_test_30, y_train_70, y_test_30 = split_data_to_train_and_test(X, y)\n",
    "   \n",
    "    results = []\n",
    "    for i in range(1, 11):\n",
    "        knn = KNeighborsClassifier(n_neighbors=i, metric='euclidean')\n",
    "        knn.fit(X_train_70, y_train_70)\n",
    "\n",
    "        y_pred = knn.predict(X_test_30)\n",
    "    \n",
    "        acuracia = metrics.accuracy_score(y_test_30, y_pred)\n",
    "        results.append(f\"{acuracia:.3f}\".replace(\".\", \",\"))\n",
    "            \n",
    "    results_df = pd.DataFrame([results], columns=range(1, 11))\n",
    "    results_df.to_csv(f'results/knn_holdout_{dataset_name}.csv', index=False)\n",
    "    print(results_df)"
   ]
  }
 ],
 "metadata": {
  "kernelspec": {
   "display_name": "Python 3",
   "language": "python",
   "name": "python3"
  },
  "language_info": {
   "codemirror_mode": {
    "name": "ipython",
    "version": 3
   },
   "file_extension": ".py",
   "mimetype": "text/x-python",
   "name": "python",
   "nbconvert_exporter": "python",
   "pygments_lexer": "ipython3",
   "version": "3.10.12"
  }
 },
 "nbformat": 4,
 "nbformat_minor": 2
}
