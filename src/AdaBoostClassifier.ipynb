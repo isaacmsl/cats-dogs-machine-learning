{
  "cells": [
    {
      "cell_type": "code",
      "execution_count": 3,
      "metadata": {
        "id": "od8_Hkkycp9b"
      },
      "outputs": [],
      "source": [
        "import pandas as pd\n",
        "from sklearn.preprocessing import MinMaxScaler\n",
        "\n",
        "## Carregando o dataset\n",
        "dataset = pd.read_csv('datasets/bests/PCA_10_CNN_19_256_MAX.csv', encoding='utf-8')\n",
        "\n",
        "## Selecionando todos os atributos com exceção da classe\n",
        "X = MinMaxScaler().fit_transform(dataset[dataset.columns[1:]])  # Features\n",
        "y = dataset.classe                # Target variable (classe)"
      ]
    },
    {
      "cell_type": "code",
      "execution_count": 4,
      "metadata": {
        "id": "7csVduUHcu59"
      },
      "outputs": [],
      "source": [
        "## Carregando o Boosting e os algoritmos base (DT) e (NB)\n",
        "from sklearn.ensemble import AdaBoostClassifier\n",
        "from sklearn.tree import DecisionTreeClassifier\n",
        "from sklearn.naive_bayes import MultinomialNB\n",
        "from sklearn import metrics\n",
        "from sklearn.metrics import confusion_matrix\n",
        "\n",
        "# Separando dataset em duas partes: treinamento e teste\n",
        "from sklearn.model_selection import train_test_split\n",
        "X_train, X_test, y_train, y_test = train_test_split(X, y, test_size=0.3, random_state=42)"
      ]
    },
    {
      "cell_type": "code",
      "execution_count": 5,
      "metadata": {
        "colab": {
          "base_uri": "https://localhost:8080/"
        },
        "id": "MMUwXdFwm10l",
        "outputId": "c93258ed-426f-4b3d-d637-4d1d6ee7fe4e"
      },
      "outputs": [
        {
          "name": "stderr",
          "output_type": "stream",
          "text": [
            "/home/isaac/.local/lib/python3.10/site-packages/sklearn/ensemble/_weight_boosting.py:519: FutureWarning: The SAMME.R algorithm (the default) is deprecated and will be removed in 1.6. Use the SAMME algorithm to circumvent this warning.\n",
            "  warnings.warn(\n"
          ]
        },
        {
          "name": "stdout",
          "output_type": "stream",
          "text": [
            "Accuracy: 0.879\n"
          ]
        },
        {
          "name": "stderr",
          "output_type": "stream",
          "text": [
            "/home/isaac/.local/lib/python3.10/site-packages/sklearn/ensemble/_weight_boosting.py:519: FutureWarning: The SAMME.R algorithm (the default) is deprecated and will be removed in 1.6. Use the SAMME algorithm to circumvent this warning.\n",
            "  warnings.warn(\n"
          ]
        },
        {
          "name": "stdout",
          "output_type": "stream",
          "text": [
            "Accuracy: 0.854\n"
          ]
        },
        {
          "name": "stderr",
          "output_type": "stream",
          "text": [
            "/home/isaac/.local/lib/python3.10/site-packages/sklearn/ensemble/_weight_boosting.py:519: FutureWarning: The SAMME.R algorithm (the default) is deprecated and will be removed in 1.6. Use the SAMME algorithm to circumvent this warning.\n",
            "  warnings.warn(\n"
          ]
        },
        {
          "name": "stdout",
          "output_type": "stream",
          "text": [
            "Accuracy: 0.863\n"
          ]
        }
      ],
      "source": [
        "ns_estimators = [10, 20, 30]\n",
        "for n_estimator in ns_estimators:\n",
        "    ## Instanciando Boosting com DecisionTree\n",
        "    adaclassifier = AdaBoostClassifier(\n",
        "        estimator=DecisionTreeClassifier(criterion=\"entropy\", max_depth=9),\n",
        "        n_estimators=n_estimator,\n",
        "    )\n",
        "\n",
        "    adaclassifier.fit(X_train, y_train)\n",
        "    y_pred = adaclassifier.predict(X_test)\n",
        "\n",
        "    ## Model Accuracy\n",
        "    acuracia = metrics.accuracy_score(y_test, y_pred)\n",
        "    print(\"Accuracy: %.3f\" % acuracia)"
      ]
    },
    {
      "cell_type": "markdown",
      "metadata": {},
      "source": [
        "Bem melhor se deu o modelo de DT com Bagging."
      ]
    },
    {
      "cell_type": "markdown",
      "metadata": {},
      "source": [
        "## Boosting MultinomialNB"
      ]
    },
    {
      "cell_type": "code",
      "execution_count": 6,
      "metadata": {
        "colab": {
          "base_uri": "https://localhost:8080/"
        },
        "id": "BY_pSx2IUHfG",
        "outputId": "c1c33e26-ee1d-49ec-a36e-d514c4c57e42"
      },
      "outputs": [
        {
          "name": "stdout",
          "output_type": "stream",
          "text": [
            "Accuracy: 0.808\n"
          ]
        },
        {
          "name": "stderr",
          "output_type": "stream",
          "text": [
            "/home/isaac/.local/lib/python3.10/site-packages/sklearn/ensemble/_weight_boosting.py:519: FutureWarning: The SAMME.R algorithm (the default) is deprecated and will be removed in 1.6. Use the SAMME algorithm to circumvent this warning.\n",
            "  warnings.warn(\n",
            "/home/isaac/.local/lib/python3.10/site-packages/sklearn/ensemble/_weight_boosting.py:519: FutureWarning: The SAMME.R algorithm (the default) is deprecated and will be removed in 1.6. Use the SAMME algorithm to circumvent this warning.\n",
            "  warnings.warn(\n"
          ]
        },
        {
          "name": "stdout",
          "output_type": "stream",
          "text": [
            "Accuracy: 0.821\n"
          ]
        },
        {
          "name": "stderr",
          "output_type": "stream",
          "text": [
            "/home/isaac/.local/lib/python3.10/site-packages/sklearn/ensemble/_weight_boosting.py:519: FutureWarning: The SAMME.R algorithm (the default) is deprecated and will be removed in 1.6. Use the SAMME algorithm to circumvent this warning.\n",
            "  warnings.warn(\n"
          ]
        },
        {
          "name": "stdout",
          "output_type": "stream",
          "text": [
            "Accuracy: 0.833\n"
          ]
        }
      ],
      "source": [
        "ns_estimators = [10, 20, 30]\n",
        "for n_estimator in ns_estimators:\n",
        "    ## Instanciando Boosting com MultinomialNB\n",
        "    adaclassifier = AdaBoostClassifier(\n",
        "        estimator=MultinomialNB(fit_prior=True, alpha=1.0),\n",
        "        n_estimators=n_estimator,\n",
        "    )\n",
        "\n",
        "    adaclassifier.fit(X_train, y_train)\n",
        "    y_pred = adaclassifier.predict(X_test)\n",
        "\n",
        "    ## Model Accuracy\n",
        "    acuracia = metrics.accuracy_score(y_test, y_pred)\n",
        "    print(\"Accuracy: %.3f\" % acuracia)"
      ]
    },
    {
      "cell_type": "markdown",
      "metadata": {},
      "source": [
        "Bem melhor se deu o modelo de DT com Bagging."
      ]
    }
  ],
  "metadata": {
    "colab": {
      "provenance": []
    },
    "kernelspec": {
      "display_name": "Python 3",
      "name": "python3"
    },
    "language_info": {
      "codemirror_mode": {
        "name": "ipython",
        "version": 3
      },
      "file_extension": ".py",
      "mimetype": "text/x-python",
      "name": "python",
      "nbconvert_exporter": "python",
      "pygments_lexer": "ipython3",
      "version": "3.10.12"
    }
  },
  "nbformat": 4,
  "nbformat_minor": 0
}
