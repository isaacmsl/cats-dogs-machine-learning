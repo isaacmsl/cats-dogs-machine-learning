{
 "cells": [
  {
   "cell_type": "code",
   "execution_count": 7,
   "metadata": {},
   "outputs": [],
   "source": [
    "import os\n",
    "import pandas as pd\n",
    "\n",
    "def load_dataframes(dir=\"datasets/bests/\"):\n",
    "    datasets = os.listdir(dir)\n",
    "    datasets = [d for d in datasets if d.endswith(\".csv\") and d.startswith(\"PCA\")]\n",
    "\n",
    "    dfs = []\n",
    "    for dataset in datasets:\n",
    "        df = pd.read_csv(dir + dataset, encoding=\"utf-8\")\n",
    "        dfs.append({\"file\": dataset, \"dataframe\": df})\n",
    "\n",
    "    return dfs"
   ]
  },
  {
   "cell_type": "code",
   "execution_count": 8,
   "metadata": {},
   "outputs": [
    {
     "name": "stdout",
     "output_type": "stream",
     "text": [
      "PCA_10_CNN_16_256_MAX\n",
      "      1      2      3      4      5      6      7      8      9      10\n",
      "0  0,857  0,863  0,858  0,868  0,878  0,871  0,871  0,870  0,877  0,883\n",
      "PCA_10_CNN_16_128_AVG\n",
      "      1      2      3      4      5      6      7      8      9      10\n",
      "0  0,773  0,779  0,797  0,792  0,802  0,792  0,808  0,807  0,806  0,801\n",
      "PCA_10_CNN_16_256_AVG\n",
      "      1      2      3      4      5      6      7      8      9      10\n",
      "0  0,842  0,836  0,850  0,843  0,867  0,852  0,876  0,862  0,861  0,860\n",
      "PCA_10_CNN_19_256_AVG\n",
      "      1      2      3      4      5      6      7      8      9      10\n",
      "0  0,838  0,842  0,867  0,855  0,868  0,862  0,871  0,861  0,873  0,865\n",
      "PCA_10_CNN_16_128_MAX\n",
      "      1      2      3      4      5      6      7      8      9      10\n",
      "0  0,768  0,778  0,801  0,810  0,826  0,811  0,822  0,823  0,818  0,816\n",
      "PCA_10_CNN_19_256_MAX\n",
      "      1      2      3      4      5      6      7      8      9      10\n",
      "0  0,870  0,863  0,886  0,880  0,880  0,877  0,882  0,885  0,886  0,878\n"
     ]
    }
   ],
   "source": [
    "from sklearn.neighbors import KNeighborsClassifier\n",
    "from sklearn.model_selection import KFold\n",
    "from sklearn.model_selection import cross_val_score\n",
    "from numpy import mean\n",
    "from sklearn.preprocessing import StandardScaler\n",
    "\n",
    "dfs = load_dataframes()\n",
    "\n",
    "# 10-fold CV\n",
    "kf = KFold(n_splits=10, random_state=42, shuffle=True)\n",
    "\n",
    "for df in dfs:\n",
    "    dataset_name = df[\"file\"].replace('.csv', '') \n",
    "    print(dataset_name)\n",
    "    df = df[\"dataframe\"]\n",
    "    df_without_class = df.drop([\"classe\"], axis=1)\n",
    "    X = df_without_class\n",
    "    y = df.classe\n",
    "    \n",
    "    # Standardize the features\n",
    "    scaler = StandardScaler()\n",
    "    X = scaler.fit_transform(X)\n",
    "\n",
    "    results = []\n",
    "    for i in range(1, 11):\n",
    "        knn = KNeighborsClassifier(n_neighbors=i, metric='euclidean')\n",
    "        scores = cross_val_score(knn, X, y, scoring='accuracy', cv=kf)\n",
    "        results.append(f\"{scores.mean():.3f}\".replace(\".\", \",\"))\n",
    "            \n",
    "    results_df = pd.DataFrame([results], columns=range(1, 11))\n",
    "    results_df.to_csv(f'results/knn_fold_{dataset_name}.csv', index=False)\n",
    "    print(results_df)"
   ]
  }
 ],
 "metadata": {
  "kernelspec": {
   "display_name": "Python 3",
   "language": "python",
   "name": "python3"
  },
  "language_info": {
   "codemirror_mode": {
    "name": "ipython",
    "version": 3
   },
   "file_extension": ".py",
   "mimetype": "text/x-python",
   "name": "python",
   "nbconvert_exporter": "python",
   "pygments_lexer": "ipython3",
   "version": "3.10.12"
  }
 },
 "nbformat": 4,
 "nbformat_minor": 2
}
